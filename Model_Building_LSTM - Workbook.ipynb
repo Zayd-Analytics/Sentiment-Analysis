{
  "cells": [
    {
      "cell_type": "markdown",
      "metadata": {
        "id": "DmcNFGyW9dAB"
      },
      "source": [
        "<h1 align=\"center\">Twitter Sentiment Analysis - LSTM Model Building: Deep Learning</h1>\n",
        "\n",
        "**Welcome to Deep Learning for Sentiment Analysis!** 🚀\n",
        "\n",
        "In this workbook, you'll learn how to build a **Long Short-Term Memory (LSTM)** neural network to classify tweet sentiments as positive, negative, or neutral.\n",
        "\n",
        "**What you'll learn:**\n",
        "- Text preprocessing for neural networks\n",
        "- Building LSTM models with TensorFlow/Keras\n",
        "- Handling class imbalance in text classification\n",
        "- Model evaluation and saving for deployment"
      ]
    },
    {
      "cell_type": "markdown",
      "metadata": {
        "id": "Zw2OdXqR97oQ"
      },
      "source": [
        "## Run this on Google Colab for GPU acceleration\n",
        "\n",
        "**Why GPU?** Deep learning models like LSTMs train much faster on GPUs compared to CPUs. Google Colab provides free GPU access!"
      ]
    },
    {
      "cell_type": "code",
      "execution_count": 2,
      "metadata": {
        "colab": {
          "base_uri": "https://localhost:8080/"
        },
        "id": "CFDhgYmH9bmc",
        "outputId": "e9215c6d-7986-44b6-cc37-a84de949c761"
      },
      "outputs": [
        {
          "name": "stdout",
          "output_type": "stream",
          "text": [
            "TensorFlow Version:  2.20.0\n",
            "Eager mode:  True\n",
            "GPU is NOT AVAILABLE\n"
          ]
        }
      ],
      "source": [
        "# Import essential libraries for data science and deep learning\n",
        "import numpy as np  # Numerical computations\n",
        "import pandas as pd  # Data manipulation\n",
        "import matplotlib.pyplot as plt  # Data visualization\n",
        "import seaborn as sns  # Statistical visualization\n",
        "\n",
        "# TODO: Import LabelEncoder for converting text labels to numbers\n",
        "from sklearn.preprocessing import LabelEncoder\n",
        "from sklearn.model_selection import train_test_split\n",
        "from sklearn.feature_extraction.text import TfidfVectorizer\n",
        "from sklearn.feature_selection import SelectKBest, f_classif\n",
        "\n",
        "# TensorFlow and Keras for deep learning\n",
        "import tensorflow as tf\n",
        "from tensorflow.keras.models import Sequential\n",
        "from tensorflow.python.keras.callbacks import LambdaCallback, EarlyStopping\n",
        "from tensorflow.keras.layers import *  # Note: importing all is not best practice, but used here for simplicity\n",
        "from tensorflow.keras.preprocessing import text\n",
        "from tensorflow.keras.preprocessing.sequence import pad_sequences\n",
        "\n",
        "import warnings\n",
        "warnings.filterwarnings('ignore')  # Hide warning messages for cleaner output\n",
        "\n",
        "%matplotlib inline\n",
        "sns.set()\n",
        "\n",
        "# Check TensorFlow version and GPU availability\n",
        "print(\"TensorFlow Version: \", tf.__version__)\n",
        "print(\"Eager mode: \", tf.executing_eagerly())\n",
        "gpus = tf.config.list_physical_devices('GPU')\n",
        "print(\"GPU is\", \"available\" if gpus else \"NOT AVAILABLE\")\n",
        "\n",
        "# 💡 Hint: LabelEncoder converts categorical labels (like 'positive', 'negative') to numerical values (0, 1, 2)"
      ]
    },
    {
      "cell_type": "code",
      "execution_count": 6,
      "metadata": {
        "colab": {
          "base_uri": "https://localhost:8080/"
        },
        "id": "ILD4CsehKMOE",
        "outputId": "469eb95b-8076-4717-d249-1e18c281690e"
      },
      "outputs": [
        {
          "name": "stdout",
          "output_type": "stream",
          "text": [
            "Sun Sep  7 12:03:50 2025       \n",
            "+-----------------------------------------------------------------------------------------+\n",
            "| NVIDIA-SMI 576.52                 Driver Version: 576.52         CUDA Version: 12.9     |\n",
            "|-----------------------------------------+------------------------+----------------------+\n",
            "| GPU  Name                  Driver-Model | Bus-Id          Disp.A | Volatile Uncorr. ECC |\n",
            "| Fan  Temp   Perf          Pwr:Usage/Cap |           Memory-Usage | GPU-Util  Compute M. |\n",
            "|                                         |                        |               MIG M. |\n",
            "|=========================================+========================+======================|\n",
            "|   0  NVIDIA GeForce RTX 2050      WDDM  |   00000000:01:00.0 Off |                  N/A |\n",
            "| N/A   46C    P0              4W /   45W |       0MiB /   4096MiB |      0%      Default |\n",
            "|                                         |                        |                  N/A |\n",
            "+-----------------------------------------+------------------------+----------------------+\n",
            "                                                                                         \n",
            "+-----------------------------------------------------------------------------------------+\n",
            "| Processes:                                                                              |\n",
            "|  GPU   GI   CI              PID   Type   Process name                        GPU Memory |\n",
            "|        ID   ID                                                               Usage      |\n",
            "|=========================================================================================|\n",
            "|  No running processes found                                                             |\n",
            "+-----------------------------------------------------------------------------------------+\n"
          ]
        }
      ],
      "source": [
        "# **OPTIONAL SECTION** - Check GPU specifications\n",
        "# This command shows detailed GPU information (memory, utilization, etc.)\n",
        "!nvidia-smi"
      ]
    },
    {
      "cell_type": "code",
      "execution_count": 8,
      "metadata": {
        "colab": {
          "base_uri": "https://localhost:8080/",
          "height": 269
        },
        "id": "dYAkdt8TF4nF",
        "outputId": "7cc160fc-50b8-4403-fd4e-b959a5aca7e7"
      },
      "outputs": [
        {
          "data": {
            "text/html": [
              "<div>\n",
              "<style scoped>\n",
              "    .dataframe tbody tr th:only-of-type {\n",
              "        vertical-align: middle;\n",
              "    }\n",
              "\n",
              "    .dataframe tbody tr th {\n",
              "        vertical-align: top;\n",
              "    }\n",
              "\n",
              "    .dataframe thead th {\n",
              "        text-align: right;\n",
              "    }\n",
              "</style>\n",
              "<table border=\"1\" class=\"dataframe\">\n",
              "  <thead>\n",
              "    <tr style=\"text-align: right;\">\n",
              "      <th></th>\n",
              "      <th>textID</th>\n",
              "      <th>text</th>\n",
              "      <th>selected_text</th>\n",
              "      <th>sentiment</th>\n",
              "      <th>clean_text</th>\n",
              "    </tr>\n",
              "  </thead>\n",
              "  <tbody>\n",
              "    <tr>\n",
              "      <th>15586</th>\n",
              "      <td>aa83e6075e</td>\n",
              "      <td>You`re not singing in the rain?</td>\n",
              "      <td>You`re not singing in the rain?</td>\n",
              "      <td>neutral</td>\n",
              "      <td>` singe rain ?</td>\n",
              "    </tr>\n",
              "    <tr>\n",
              "      <th>3354</th>\n",
              "      <td>dbb159d94c</td>\n",
              "      <td>omg a rat... ewwwww. omg i cant wait for tha m...</td>\n",
              "      <td>omg a rat... ewwwww. omg i cant wait for tha m...</td>\n",
              "      <td>neutral</td>\n",
              "      <td>omg rat ewwwww omg wait tha marra ecxcite anna...</td>\n",
              "    </tr>\n",
              "    <tr>\n",
              "      <th>2091</th>\n",
              "      <td>6865f38967</td>\n",
              "      <td>SUPER BUENO FTW!!! I am so proud of you guys.</td>\n",
              "      <td>proud</td>\n",
              "      <td>positive</td>\n",
              "      <td>SUPER BUENO FTW ! ! ! proud guy</td>\n",
              "    </tr>\n",
              "    <tr>\n",
              "      <th>15140</th>\n",
              "      <td>2505a44c46</td>\n",
              "      <td>damnnn this day came to fast, but i cherished ...</td>\n",
              "      <td>i cherished all the moment i had</td>\n",
              "      <td>positive</td>\n",
              "      <td>damnnn day come fast cherish moment</td>\n",
              "    </tr>\n",
              "    <tr>\n",
              "      <th>3257</th>\n",
              "      <td>d3960d0cf0</td>\n",
              "      <td>haven`t twittered in forever. yeah, just had m...</td>\n",
              "      <td>haven`t twittered in forever. yeah, just had m...</td>\n",
              "      <td>neutral</td>\n",
              "      <td>` twitter forever yeah sixteenth birthday part...</td>\n",
              "    </tr>\n",
              "    <tr>\n",
              "      <th>14167</th>\n",
              "      <td>b577cd2a57</td>\n",
              "      <td>catching up on House  season finale monday!</td>\n",
              "      <td>catching up on House  season finale monday!</td>\n",
              "      <td>neutral</td>\n",
              "      <td>catch House season finale monday !</td>\n",
              "    </tr>\n",
              "    <tr>\n",
              "      <th>5525</th>\n",
              "      <td>9ab7259b2d</td>\n",
              "      <td>A bunny was eating my moms plants. Naturally, ...</td>\n",
              "      <td>A bunny was eating my moms plants. Naturally, ...</td>\n",
              "      <td>neutral</td>\n",
              "      <td>bunny eat mom plant naturally start shoot bunny</td>\n",
              "    </tr>\n",
              "  </tbody>\n",
              "</table>\n",
              "</div>"
            ],
            "text/plain": [
              "           textID                                               text  \\\n",
              "15586  aa83e6075e                    You`re not singing in the rain?   \n",
              "3354   dbb159d94c  omg a rat... ewwwww. omg i cant wait for tha m...   \n",
              "2091   6865f38967      SUPER BUENO FTW!!! I am so proud of you guys.   \n",
              "15140  2505a44c46  damnnn this day came to fast, but i cherished ...   \n",
              "3257   d3960d0cf0  haven`t twittered in forever. yeah, just had m...   \n",
              "14167  b577cd2a57        catching up on House  season finale monday!   \n",
              "5525   9ab7259b2d  A bunny was eating my moms plants. Naturally, ...   \n",
              "\n",
              "                                           selected_text sentiment  \\\n",
              "15586                    You`re not singing in the rain?   neutral   \n",
              "3354   omg a rat... ewwwww. omg i cant wait for tha m...   neutral   \n",
              "2091                                               proud  positive   \n",
              "15140                   i cherished all the moment i had  positive   \n",
              "3257   haven`t twittered in forever. yeah, just had m...   neutral   \n",
              "14167        catching up on House  season finale monday!   neutral   \n",
              "5525   A bunny was eating my moms plants. Naturally, ...   neutral   \n",
              "\n",
              "                                              clean_text  \n",
              "15586                                     ` singe rain ?  \n",
              "3354   omg rat ewwwww omg wait tha marra ecxcite anna...  \n",
              "2091                     SUPER BUENO FTW ! ! ! proud guy  \n",
              "15140                damnnn day come fast cherish moment  \n",
              "3257   ` twitter forever yeah sixteenth birthday part...  \n",
              "14167                 catch House season finale monday !  \n",
              "5525     bunny eat mom plant naturally start shoot bunny  "
            ]
          },
          "execution_count": 8,
          "metadata": {},
          "output_type": "execute_result"
        }
      ],
      "source": [
        "# Load the cleaned dataset from the previous EDA (Exploratory Data Analysis) step\n",
        "# This dataset should contain tweets with their sentiment labels\n",
        "\n",
        "# TODO: Load the CSV file containing cleaned tweets\n",
        "df = pd.read_csv('../data/cleaned_tweets.csv')\n",
        "\n",
        "# Display 7 random samples to understand our data structure\n",
        "df.sample(7)\n",
        "\n",
        "# 💡 Hint: The file name should be 'cleaned_tweets.csv' based on the data preprocessing step"
      ]
    },
    {
      "cell_type": "markdown",
      "metadata": {
        "id": "IstLZZ5OG3U8"
      },
      "source": [
        "## Text Preprocessing for Deep Learning\n",
        "\n",
        "**Key Concept:** Neural networks work with numbers, not text. We need to convert our text labels to numerical values."
      ]
    },
    {
      "cell_type": "code",
      "execution_count": 9,
      "metadata": {
        "colab": {
          "base_uri": "https://localhost:8080/",
          "height": 480
        },
        "id": "If49Pq-PQH5-",
        "outputId": "03d54f3b-2e32-402d-eb92-23616e227ed5"
      },
      "outputs": [
        {
          "data": {
            "image/png": "[encoded data removed]",
            "text/plain": [
              "<Figure size 640x480 with 1 Axes>"
            ]
          },
          "metadata": {},
          "output_type": "display_data"
        }
      ],
      "source": [
        "# Analyze the length distribution of tweets\n",
        "# This helps us understand how long our input sequences should be\n",
        "\n",
        "# TODO: Create a new column counting words in each tweet\n",
        "df['word_count_selected'] = df['selected_text'].apply(lambda x: len(x.split()))\n",
        "\n",
        "# Create a histogram to visualize word count distribution\n",
        "df.word_count_selected.hist(bins=100)\n",
        "plt.xlabel('Number of words')\n",
        "plt.ylabel('Number of tweets')\n",
        "plt.title('Distribution of Word Counts in Tweets')\n",
        "plt.show()\n",
        "\n",
        "# 💡 Hint: Use the split() method to count words in a sentence"
      ]
    },
    {
      "cell_type": "code",
      "execution_count": 10,
      "metadata": {
        "colab": {
          "base_uri": "https://localhost:8080/",
          "height": 300
        },
        "id": "I-mBPDdXQMK1",
        "outputId": "164f828a-9a82-495e-dae5-f05c9acf9414"
      },
      "outputs": [
        {
          "data": {
            "text/html": [
              "<div>\n",
              "<style scoped>\n",
              "    .dataframe tbody tr th:only-of-type {\n",
              "        vertical-align: middle;\n",
              "    }\n",
              "\n",
              "    .dataframe tbody tr th {\n",
              "        vertical-align: top;\n",
              "    }\n",
              "\n",
              "    .dataframe thead th {\n",
              "        text-align: right;\n",
              "    }\n",
              "</style>\n",
              "<table border=\"1\" class=\"dataframe\">\n",
              "  <thead>\n",
              "    <tr style=\"text-align: right;\">\n",
              "      <th></th>\n",
              "      <th>word_count_selected</th>\n",
              "    </tr>\n",
              "  </thead>\n",
              "  <tbody>\n",
              "    <tr>\n",
              "      <th>count</th>\n",
              "      <td>27480.000000</td>\n",
              "    </tr>\n",
              "    <tr>\n",
              "      <th>mean</th>\n",
              "      <td>7.102511</td>\n",
              "    </tr>\n",
              "    <tr>\n",
              "      <th>std</th>\n",
              "      <td>6.891179</td>\n",
              "    </tr>\n",
              "    <tr>\n",
              "      <th>min</th>\n",
              "      <td>1.000000</td>\n",
              "    </tr>\n",
              "    <tr>\n",
              "      <th>25%</th>\n",
              "      <td>1.000000</td>\n",
              "    </tr>\n",
              "    <tr>\n",
              "      <th>50%</th>\n",
              "      <td>4.000000</td>\n",
              "    </tr>\n",
              "    <tr>\n",
              "      <th>75%</th>\n",
              "      <td>11.000000</td>\n",
              "    </tr>\n",
              "    <tr>\n",
              "      <th>max</th>\n",
              "      <td>33.000000</td>\n",
              "    </tr>\n",
              "  </tbody>\n",
              "</table>\n",
              "</div>"
            ],
            "text/plain": [
              "       word_count_selected\n",
              "count         27480.000000\n",
              "mean              7.102511\n",
              "std               6.891179\n",
              "min               1.000000\n",
              "25%               1.000000\n",
              "50%               4.000000\n",
              "75%              11.000000\n",
              "max              33.000000"
            ]
          },
          "execution_count": 10,
          "metadata": {},
          "output_type": "execute_result"
        }
      ],
      "source": [
        "# Get statistical summary of our dataset\n",
        "# This shows us mean, median, and quartiles for word counts\n",
        "df.describe()"
      ]
    },
    {
      "cell_type": "code",
      "execution_count": 11,
      "metadata": {
        "colab": {
          "base_uri": "https://localhost:8080/",
          "height": 210
        },
        "id": "Nkzs8jkDJtNp",
        "outputId": "e89c83e9-db50-4024-a758-03b79f35f701"
      },
      "outputs": [
        {
          "data": {
            "text/plain": [
              "sentiment\n",
              "neutral     11117\n",
              "positive     8582\n",
              "negative     7781\n",
              "Name: count, dtype: int64"
            ]
          },
          "execution_count": 11,
          "metadata": {},
          "output_type": "execute_result"
        }
      ],
      "source": [
        "# Check the distribution of sentiment classes\n",
        "# Important: This tells us if our dataset is balanced or imbalanced\n",
        "\n",
        "# TODO: Count how many tweets belong to each sentiment category\n",
        "df.sentiment.value_counts()\n",
        "\n",
        "# 💡 Hint: Use value_counts() to count unique values in a column"
      ]
    },
    {
      "cell_type": "code",
      "execution_count": 12,
      "metadata": {
        "colab": {
          "base_uri": "https://localhost:8080/",
          "height": 269
        },
        "id": "fsRxNWaDG2sJ",
        "outputId": "59861861-071d-46bb-97d7-3531522aeeb5"
      },
      "outputs": [
        {
          "data": {
            "text/html": [
              "<div>\n",
              "<style scoped>\n",
              "    .dataframe tbody tr th:only-of-type {\n",
              "        vertical-align: middle;\n",
              "    }\n",
              "\n",
              "    .dataframe tbody tr th {\n",
              "        vertical-align: top;\n",
              "    }\n",
              "\n",
              "    .dataframe thead th {\n",
              "        text-align: right;\n",
              "    }\n",
              "</style>\n",
              "<table border=\"1\" class=\"dataframe\">\n",
              "  <thead>\n",
              "    <tr style=\"text-align: right;\">\n",
              "      <th></th>\n",
              "      <th>textID</th>\n",
              "      <th>text</th>\n",
              "      <th>selected_text</th>\n",
              "      <th>sentiment</th>\n",
              "      <th>clean_text</th>\n",
              "      <th>word_count_selected</th>\n",
              "    </tr>\n",
              "  </thead>\n",
              "  <tbody>\n",
              "    <tr>\n",
              "      <th>19747</th>\n",
              "      <td>2ee537aba8</td>\n",
              "      <td>Can`t wait to go to bed</td>\n",
              "      <td>Can`t wait to go to bed</td>\n",
              "      <td>2</td>\n",
              "      <td>` wait go bed</td>\n",
              "      <td>6</td>\n",
              "    </tr>\n",
              "    <tr>\n",
              "      <th>20637</th>\n",
              "      <td>a971eb9be0</td>\n",
              "      <td>Would love it if you guys toured here, really...</td>\n",
              "      <td>Would love it if you guys toured here, really!...</td>\n",
              "      <td>1</td>\n",
              "      <td>would love guy tour really ! Philippines tour ?</td>\n",
              "      <td>11</td>\n",
              "    </tr>\n",
              "    <tr>\n",
              "      <th>17690</th>\n",
              "      <td>74be5dc362</td>\n",
              "      <td>So slpy 2day  zzzz</td>\n",
              "      <td>So slpy 2day  zzzz</td>\n",
              "      <td>1</td>\n",
              "      <td>slpy 2day zzzz</td>\n",
              "      <td>4</td>\n",
              "    </tr>\n",
              "    <tr>\n",
              "      <th>9276</th>\n",
              "      <td>1d201cb974</td>\n",
              "      <td>8 of my 11 followers are random spammers</td>\n",
              "      <td>spammers</td>\n",
              "      <td>0</td>\n",
              "      <td>8 11 follower random spammer</td>\n",
              "      <td>1</td>\n",
              "    </tr>\n",
              "    <tr>\n",
              "      <th>19593</th>\n",
              "      <td>7994a5c310</td>\n",
              "      <td>At nosely safari park with Leah</td>\n",
              "      <td>At nosely safari park with Leah</td>\n",
              "      <td>1</td>\n",
              "      <td>nosely safari park Leah</td>\n",
              "      <td>6</td>\n",
              "    </tr>\n",
              "    <tr>\n",
              "      <th>5207</th>\n",
              "      <td>f598225c27</td>\n",
              "      <td>LOL she is okay, its just he songs are so cat...</td>\n",
              "      <td>its just he songs are so catchy</td>\n",
              "      <td>2</td>\n",
              "      <td>LOL okay song catchy get stuck head</td>\n",
              "      <td>7</td>\n",
              "    </tr>\n",
              "    <tr>\n",
              "      <th>15525</th>\n",
              "      <td>4a4c6608ec</td>\n",
              "      <td>going to funeral today for friend and classmat...</td>\n",
              "      <td>who died in a car wreck last Friday</td>\n",
              "      <td>0</td>\n",
              "      <td>go funeral today friend classmate die car wrec...</td>\n",
              "      <td>8</td>\n",
              "    </tr>\n",
              "  </tbody>\n",
              "</table>\n",
              "</div>"
            ],
            "text/plain": [
              "           textID                                               text  \\\n",
              "19747  2ee537aba8                            Can`t wait to go to bed   \n",
              "20637  a971eb9be0   Would love it if you guys toured here, really...   \n",
              "17690  74be5dc362                                 So slpy 2day  zzzz   \n",
              "9276   1d201cb974           8 of my 11 followers are random spammers   \n",
              "19593  7994a5c310                    At nosely safari park with Leah   \n",
              "5207   f598225c27   LOL she is okay, its just he songs are so cat...   \n",
              "15525  4a4c6608ec  going to funeral today for friend and classmat...   \n",
              "\n",
              "                                           selected_text  sentiment  \\\n",
              "19747                            Can`t wait to go to bed          2   \n",
              "20637  Would love it if you guys toured here, really!...          1   \n",
              "17690                                 So slpy 2day  zzzz          1   \n",
              "9276                                            spammers          0   \n",
              "19593                    At nosely safari park with Leah          1   \n",
              "5207                     its just he songs are so catchy          2   \n",
              "15525                who died in a car wreck last Friday          0   \n",
              "\n",
              "                                              clean_text  word_count_selected  \n",
              "19747                                      ` wait go bed                    6  \n",
              "20637    would love guy tour really ! Philippines tour ?                   11  \n",
              "17690                                     slpy 2day zzzz                    4  \n",
              "9276                        8 11 follower random spammer                    1  \n",
              "19593                            nosely safari park Leah                    6  \n",
              "5207                 LOL okay song catchy get stuck head                    7  \n",
              "15525  go funeral today friend classmate die car wrec...                    8  "
            ]
          },
          "execution_count": 12,
          "metadata": {},
          "output_type": "execute_result"
        }
      ],
      "source": [
        "# Convert text sentiment labels to numerical values\n",
        "# Example: 'positive' → 2, 'neutral' → 1, 'negative' → 0\n",
        "\n",
        "# TODO: Initialize LabelEncoder and transform the sentiment column\n",
        "le = LabelEncoder()  # Create LabelEncoder object\n",
        "df['sentiment'] = le.fit_transform(df['sentiment'])  # Transform sentiment labels to numbers\n",
        "\n",
        "# Display sample data to see the transformation\n",
        "df.sample(7)\n",
        "\n",
        "# 💡 Hint: LabelEncoder() creates the encoder, and sentiment is the column name to transform"
      ]
    },
    {
      "cell_type": "code",
      "execution_count": 13,
      "metadata": {
        "colab": {
          "base_uri": "https://localhost:8080/",
          "height": 210
        },
        "id": "0hzDbmIoJtNw",
        "outputId": "f91d0805-23a7-48af-ae25-49037e70c94a"
      },
      "outputs": [
        {
          "data": {
            "text/plain": [
              "sentiment\n",
              "1    11117\n",
              "2     8582\n",
              "0     7781\n",
              "Name: count, dtype: int64"
            ]
          },
          "execution_count": 13,
          "metadata": {},
          "output_type": "execute_result"
        }
      ],
      "source": [
        "# Check the distribution after encoding - should be the same counts but with numbers\n",
        "df.sentiment.value_counts()"
      ]
    },
    {
      "cell_type": "code",
      "execution_count": 14,
      "metadata": {
        "id": "S51Q87iTJtNw"
      },
      "outputs": [
        {
          "name": "stdout",
          "output_type": "stream",
          "text": [
            "Class mapping: {'negative': 0, 'neutral': 1, 'positive': 2}\n"
          ]
        }
      ],
      "source": [
        "# Save the label mapping for future reference\n",
        "# This is crucial for interpreting model predictions later!\n",
        "\n",
        "# TODO: Get the original class names from the label encoder\n",
        "le.classes_  # View original class names before encoding\n",
        "num_classes = len(le.classes_)\n",
        "\n",
        "# Create a mapping dictionary: original label → encoded number\n",
        "class_mapping = dict(zip(le.classes_, range(num_classes)))\n",
        "print(\"Class mapping:\", class_mapping)\n",
        "\n",
        "# Save the mapping to a JSON file for later use\n",
        "import json\n",
        "with open('class_mapping.json', 'w') as f:\n",
        "    json.dump(class_mapping, f)\n",
        "\n",
        "# 💡 Hint: The classes_ attribute stores the original class names"
      ]
    },
    {
      "cell_type": "code",
      "execution_count": 15,
      "metadata": {
        "colab": {
          "base_uri": "https://localhost:8080/"
        },
        "id": "q5Nn6YtsKeBm",
        "outputId": "ac4c8cf6-bc1a-4155-bc71-d4b75384e427"
      },
      "outputs": [
        {
          "name": "stderr",
          "output_type": "stream",
          "text": [
            "'ls' is not recognized as an internal or external command,\n",
            "operable program or batch file.\n"
          ]
        }
      ],
      "source": [
        "# List all files in current directory to verify our mapping was saved\n",
        "!ls"
      ]
    },
    {
      "cell_type": "markdown",
      "metadata": {
        "id": "SfqhVVlSJtNx"
      },
      "source": [
        "## Data Quality Check\n",
        "**Always check for missing values before training!** Missing data can cause errors or poor model performance."
      ]
    },
    {
      "cell_type": "code",
      "execution_count": 16,
      "metadata": {
        "colab": {
          "base_uri": "https://localhost:8080/",
          "height": 272
        },
        "id": "buRrtvfDJtN2",
        "outputId": "d995623c-1d02-479f-8d1f-f4d867748e94"
      },
      "outputs": [
        {
          "data": {
            "text/plain": [
              "textID                  0\n",
              "text                    0\n",
              "selected_text           0\n",
              "sentiment               0\n",
              "clean_text             31\n",
              "word_count_selected     0\n",
              "dtype: int64"
            ]
          },
          "execution_count": 16,
          "metadata": {},
          "output_type": "execute_result"
        }
      ],
      "source": [
        "# TODO: Check for missing values in our dataset\n",
        "df.isna().sum()  # Count missing values in each column\n",
        "\n",
        "# 💡 Hint: Use isna() or isnull() to find missing values, then sum() to count them"
      ]
    },
    {
      "cell_type": "code",
      "execution_count": 17,
      "metadata": {
        "colab": {
          "base_uri": "https://localhost:8080/",
          "height": 1000
        },
        "id": "WtoS70_fJtN3",
        "outputId": "ed5fef74-3ffc-446a-ba39-42d4f0e384ee"
      },
      "outputs": [
        {
          "data": {
            "text/html": [
              "<div>\n",
              "<style scoped>\n",
              "    .dataframe tbody tr th:only-of-type {\n",
              "        vertical-align: middle;\n",
              "    }\n",
              "\n",
              "    .dataframe tbody tr th {\n",
              "        vertical-align: top;\n",
              "    }\n",
              "\n",
              "    .dataframe thead th {\n",
              "        text-align: right;\n",
              "    }\n",
              "</style>\n",
              "<table border=\"1\" class=\"dataframe\">\n",
              "  <thead>\n",
              "    <tr style=\"text-align: right;\">\n",
              "      <th></th>\n",
              "      <th>textID</th>\n",
              "      <th>text</th>\n",
              "      <th>selected_text</th>\n",
              "      <th>sentiment</th>\n",
              "      <th>clean_text</th>\n",
              "      <th>word_count_selected</th>\n",
              "    </tr>\n",
              "  </thead>\n",
              "  <tbody>\n",
              "    <tr>\n",
              "      <th>8</th>\n",
              "      <td>e050245fbd</td>\n",
              "      <td>Both of you</td>\n",
              "      <td>Both of you</td>\n",
              "      <td>1</td>\n",
              "      <td>NaN</td>\n",
              "      <td>3</td>\n",
              "    </tr>\n",
              "    <tr>\n",
              "      <th>640</th>\n",
              "      <td>5210cc55ae</td>\n",
              "      <td>no</td>\n",
              "      <td>no</td>\n",
              "      <td>1</td>\n",
              "      <td>NaN</td>\n",
              "      <td>1</td>\n",
              "    </tr>\n",
              "    <tr>\n",
              "      <th>1489</th>\n",
              "      <td>07e2fab0da</td>\n",
              "      <td>no its the same</td>\n",
              "      <td>no its the same</td>\n",
              "      <td>1</td>\n",
              "      <td>NaN</td>\n",
              "      <td>4</td>\n",
              "    </tr>\n",
              "    <tr>\n",
              "      <th>2041</th>\n",
              "      <td>12c89d051d</td>\n",
              "      <td>That was ****.</td>\n",
              "      <td>****.</td>\n",
              "      <td>0</td>\n",
              "      <td>NaN</td>\n",
              "      <td>1</td>\n",
              "    </tr>\n",
              "    <tr>\n",
              "      <th>3034</th>\n",
              "      <td>d497141ca8</td>\n",
              "      <td>me too</td>\n",
              "      <td>me too</td>\n",
              "      <td>1</td>\n",
              "      <td>NaN</td>\n",
              "      <td>2</td>\n",
              "    </tr>\n",
              "    <tr>\n",
              "      <th>3613</th>\n",
              "      <td>ec08321ce1</td>\n",
              "      <td>**** EM</td>\n",
              "      <td>**** EM</td>\n",
              "      <td>0</td>\n",
              "      <td>NaN</td>\n",
              "      <td>2</td>\n",
              "    </tr>\n",
              "    <tr>\n",
              "      <th>3674</th>\n",
              "      <td>f18b9435c8</td>\n",
              "      <td>with</td>\n",
              "      <td>with</td>\n",
              "      <td>1</td>\n",
              "      <td>NaN</td>\n",
              "      <td>1</td>\n",
              "    </tr>\n",
              "    <tr>\n",
              "      <th>5053</th>\n",
              "      <td>fd13a24d43</td>\n",
              "      <td>it does.</td>\n",
              "      <td>it does.</td>\n",
              "      <td>1</td>\n",
              "      <td>NaN</td>\n",
              "      <td>2</td>\n",
              "    </tr>\n",
              "    <tr>\n",
              "      <th>5154</th>\n",
              "      <td>3a4ff44f1a</td>\n",
              "      <td>i will do that..</td>\n",
              "      <td>i will do that..</td>\n",
              "      <td>1</td>\n",
              "      <td>NaN</td>\n",
              "      <td>4</td>\n",
              "    </tr>\n",
              "    <tr>\n",
              "      <th>8119</th>\n",
              "      <td>4a265d8a34</td>\n",
              "      <td>****</td>\n",
              "      <td>****</td>\n",
              "      <td>0</td>\n",
              "      <td>NaN</td>\n",
              "      <td>1</td>\n",
              "    </tr>\n",
              "    <tr>\n",
              "      <th>8149</th>\n",
              "      <td>5e3b347124</td>\n",
              "      <td>she will</td>\n",
              "      <td>she will</td>\n",
              "      <td>1</td>\n",
              "      <td>NaN</td>\n",
              "      <td>2</td>\n",
              "    </tr>\n",
              "    <tr>\n",
              "      <th>9940</th>\n",
              "      <td>65985bdb35</td>\n",
              "      <td>no you dont</td>\n",
              "      <td>no you dont</td>\n",
              "      <td>1</td>\n",
              "      <td>NaN</td>\n",
              "      <td>3</td>\n",
              "    </tr>\n",
              "    <tr>\n",
              "      <th>10677</th>\n",
              "      <td>a482681447</td>\n",
              "      <td>you can do it</td>\n",
              "      <td>you can do it</td>\n",
              "      <td>2</td>\n",
              "      <td>NaN</td>\n",
              "      <td>4</td>\n",
              "    </tr>\n",
              "    <tr>\n",
              "      <th>11298</th>\n",
              "      <td>415660cb0e</td>\n",
              "      <td>you should.</td>\n",
              "      <td>you should.</td>\n",
              "      <td>1</td>\n",
              "      <td>NaN</td>\n",
              "      <td>2</td>\n",
              "    </tr>\n",
              "    <tr>\n",
              "      <th>12897</th>\n",
              "      <td>02cfbffb94</td>\n",
              "      <td>i will</td>\n",
              "      <td>i will</td>\n",
              "      <td>1</td>\n",
              "      <td>NaN</td>\n",
              "      <td>2</td>\n",
              "    </tr>\n",
              "    <tr>\n",
              "      <th>14526</th>\n",
              "      <td>a5ea878610</td>\n",
              "      <td>is over</td>\n",
              "      <td>is over</td>\n",
              "      <td>1</td>\n",
              "      <td>NaN</td>\n",
              "      <td>2</td>\n",
              "    </tr>\n",
              "    <tr>\n",
              "      <th>15937</th>\n",
              "      <td>03f89d7db1</td>\n",
              "      <td>_m do it up</td>\n",
              "      <td>_m do it up</td>\n",
              "      <td>1</td>\n",
              "      <td>NaN</td>\n",
              "      <td>4</td>\n",
              "    </tr>\n",
              "    <tr>\n",
              "      <th>15968</th>\n",
              "      <td>64810cb721</td>\n",
              "      <td>not just me then</td>\n",
              "      <td>not just me then</td>\n",
              "      <td>1</td>\n",
              "      <td>NaN</td>\n",
              "      <td>4</td>\n",
              "    </tr>\n",
              "    <tr>\n",
              "      <th>16072</th>\n",
              "      <td>f5d5719228</td>\n",
              "      <td>So am I.</td>\n",
              "      <td>So am I.</td>\n",
              "      <td>1</td>\n",
              "      <td>NaN</td>\n",
              "      <td>3</td>\n",
              "    </tr>\n",
              "    <tr>\n",
              "      <th>16473</th>\n",
              "      <td>b100739bc6</td>\n",
              "      <td>not</td>\n",
              "      <td>not</td>\n",
              "      <td>1</td>\n",
              "      <td>NaN</td>\n",
              "      <td>1</td>\n",
              "    </tr>\n",
              "    <tr>\n",
              "      <th>17273</th>\n",
              "      <td>770ca1632c</td>\n",
              "      <td>should be me</td>\n",
              "      <td>should be me</td>\n",
              "      <td>1</td>\n",
              "      <td>NaN</td>\n",
              "      <td>3</td>\n",
              "    </tr>\n",
              "    <tr>\n",
              "      <th>18324</th>\n",
              "      <td>4c8908e55c</td>\n",
              "      <td>Not any more.</td>\n",
              "      <td>Not any more.</td>\n",
              "      <td>0</td>\n",
              "      <td>NaN</td>\n",
              "      <td>3</td>\n",
              "    </tr>\n",
              "    <tr>\n",
              "      <th>18875</th>\n",
              "      <td>fd7975b3fa</td>\n",
              "      <td>same</td>\n",
              "      <td>same</td>\n",
              "      <td>1</td>\n",
              "      <td>NaN</td>\n",
              "      <td>1</td>\n",
              "    </tr>\n",
              "    <tr>\n",
              "      <th>19622</th>\n",
              "      <td>27dafe2762</td>\n",
              "      <td>On what..</td>\n",
              "      <td>On what..</td>\n",
              "      <td>1</td>\n",
              "      <td>NaN</td>\n",
              "      <td>2</td>\n",
              "    </tr>\n",
              "    <tr>\n",
              "      <th>22272</th>\n",
              "      <td>3cbe2d6bf7</td>\n",
              "      <td>AGAIN AGAIN.</td>\n",
              "      <td>AGAIN AGAIN.</td>\n",
              "      <td>1</td>\n",
              "      <td>NaN</td>\n",
              "      <td>2</td>\n",
              "    </tr>\n",
              "    <tr>\n",
              "      <th>22612</th>\n",
              "      <td>e1cf1d725e</td>\n",
              "      <td>Its over for them</td>\n",
              "      <td>Its over for them</td>\n",
              "      <td>1</td>\n",
              "      <td>NaN</td>\n",
              "      <td>4</td>\n",
              "    </tr>\n",
              "    <tr>\n",
              "      <th>22748</th>\n",
              "      <td>279fd69360</td>\n",
              "      <td>I did that once</td>\n",
              "      <td>I did that once</td>\n",
              "      <td>1</td>\n",
              "      <td>NaN</td>\n",
              "      <td>4</td>\n",
              "    </tr>\n",
              "    <tr>\n",
              "      <th>24190</th>\n",
              "      <td>539d37b36b</td>\n",
              "      <td>they did,</td>\n",
              "      <td>they did,</td>\n",
              "      <td>1</td>\n",
              "      <td>NaN</td>\n",
              "      <td>2</td>\n",
              "    </tr>\n",
              "    <tr>\n",
              "      <th>25698</th>\n",
              "      <td>ee8ee67cb3</td>\n",
              "      <td>ME</td>\n",
              "      <td>ME</td>\n",
              "      <td>1</td>\n",
              "      <td>NaN</td>\n",
              "      <td>1</td>\n",
              "    </tr>\n",
              "    <tr>\n",
              "      <th>25961</th>\n",
              "      <td>7909e8e63b</td>\n",
              "      <td>At The Only with  and , but not with .</td>\n",
              "      <td>At The Only with  and , but not with .</td>\n",
              "      <td>1</td>\n",
              "      <td>NaN</td>\n",
              "      <td>10</td>\n",
              "    </tr>\n",
              "    <tr>\n",
              "      <th>26938</th>\n",
              "      <td>a33cec15dd</td>\n",
              "      <td>I did</td>\n",
              "      <td>I did</td>\n",
              "      <td>1</td>\n",
              "      <td>NaN</td>\n",
              "      <td>2</td>\n",
              "    </tr>\n",
              "  </tbody>\n",
              "</table>\n",
              "</div>"
            ],
            "text/plain": [
              "           textID                                    text  \\\n",
              "8      e050245fbd                             Both of you   \n",
              "640    5210cc55ae                                      no   \n",
              "1489   07e2fab0da                         no its the same   \n",
              "2041   12c89d051d                          That was ****.   \n",
              "3034   d497141ca8                                  me too   \n",
              "3613   ec08321ce1                                 **** EM   \n",
              "3674   f18b9435c8                                   with    \n",
              "5053   fd13a24d43                                it does.   \n",
              "5154   3a4ff44f1a                        i will do that..   \n",
              "8119   4a265d8a34                                    ****   \n",
              "8149   5e3b347124                                she will   \n",
              "9940   65985bdb35                             no you dont   \n",
              "10677  a482681447                           you can do it   \n",
              "11298  415660cb0e                             you should.   \n",
              "12897  02cfbffb94                                  i will   \n",
              "14526  a5ea878610                                 is over   \n",
              "15937  03f89d7db1                             _m do it up   \n",
              "15968  64810cb721                        not just me then   \n",
              "16072  f5d5719228                                So am I.   \n",
              "16473  b100739bc6                                     not   \n",
              "17273  770ca1632c                            should be me   \n",
              "18324  4c8908e55c                           Not any more.   \n",
              "18875  fd7975b3fa                                    same   \n",
              "19622  27dafe2762                               On what..   \n",
              "22272  3cbe2d6bf7                            AGAIN AGAIN.   \n",
              "22612  e1cf1d725e                       Its over for them   \n",
              "22748  279fd69360                         I did that once   \n",
              "24190  539d37b36b                               they did,   \n",
              "25698  ee8ee67cb3                                      ME   \n",
              "25961  7909e8e63b  At The Only with  and , but not with .   \n",
              "26938  a33cec15dd                                   I did   \n",
              "\n",
              "                                selected_text  sentiment clean_text  \\\n",
              "8                                 Both of you          1        NaN   \n",
              "640                                        no          1        NaN   \n",
              "1489                          no its the same          1        NaN   \n",
              "2041                                    ****.          0        NaN   \n",
              "3034                                   me too          1        NaN   \n",
              "3613                                  **** EM          0        NaN   \n",
              "3674                                     with          1        NaN   \n",
              "5053                                 it does.          1        NaN   \n",
              "5154                         i will do that..          1        NaN   \n",
              "8119                                     ****          0        NaN   \n",
              "8149                                 she will          1        NaN   \n",
              "9940                              no you dont          1        NaN   \n",
              "10677                           you can do it          2        NaN   \n",
              "11298                             you should.          1        NaN   \n",
              "12897                                  i will          1        NaN   \n",
              "14526                                 is over          1        NaN   \n",
              "15937                             _m do it up          1        NaN   \n",
              "15968                        not just me then          1        NaN   \n",
              "16072                                So am I.          1        NaN   \n",
              "16473                                     not          1        NaN   \n",
              "17273                            should be me          1        NaN   \n",
              "18324                           Not any more.          0        NaN   \n",
              "18875                                    same          1        NaN   \n",
              "19622                               On what..          1        NaN   \n",
              "22272                            AGAIN AGAIN.          1        NaN   \n",
              "22612                       Its over for them          1        NaN   \n",
              "22748                         I did that once          1        NaN   \n",
              "24190                               they did,          1        NaN   \n",
              "25698                                      ME          1        NaN   \n",
              "25961  At The Only with  and , but not with .          1        NaN   \n",
              "26938                                   I did          1        NaN   \n",
              "\n",
              "       word_count_selected  \n",
              "8                        3  \n",
              "640                      1  \n",
              "1489                     4  \n",
              "2041                     1  \n",
              "3034                     2  \n",
              "3613                     2  \n",
              "3674                     1  \n",
              "5053                     2  \n",
              "5154                     4  \n",
              "8119                     1  \n",
              "8149                     2  \n",
              "9940                     3  \n",
              "10677                    4  \n",
              "11298                    2  \n",
              "12897                    2  \n",
              "14526                    2  \n",
              "15937                    4  \n",
              "15968                    4  \n",
              "16072                    3  \n",
              "16473                    1  \n",
              "17273                    3  \n",
              "18324                    3  \n",
              "18875                    1  \n",
              "19622                    2  \n",
              "22272                    2  \n",
              "22612                    4  \n",
              "22748                    4  \n",
              "24190                    2  \n",
              "25698                    1  \n",
              "25961                   10  \n",
              "26938                    2  "
            ]
          },
          "execution_count": 17,
          "metadata": {},
          "output_type": "execute_result"
        }
      ],
      "source": [
        "# Examine rows with missing values to understand why they're missing\n",
        "# This helps us decide how to handle them\n",
        "df[df.isnull().any(axis=1)]"
      ]
    },
    {
      "cell_type": "markdown",
      "metadata": {
        "id": "u_t54USoJtN4"
      },
      "source": [
        "**Analysis:** These appear to be tweets that contained only stop words, which were removed during text cleaning, leaving empty strings."
      ]
    },
    {
      "cell_type": "code",
      "execution_count": 18,
      "metadata": {
        "id": "uIXNydATJtN4"
      },
      "outputs": [],
      "source": [
        "# Handle missing values by removing them\n",
        "# Since there are only 31 missing values out of thousands, dropping them is reasonable\n",
        "\n",
        "# TODO: Remove rows with missing values\n",
        "df.dropna(axis=0, inplace=True)\n",
        "\n",
        "# 💡 Hint: Use dropna() to remove rows with missing values"
      ]
    },
    {
      "cell_type": "code",
      "execution_count": 19,
      "metadata": {
        "colab": {
          "base_uri": "https://localhost:8080/"
        },
        "id": "s2aUnL93JtN-",
        "outputId": "8ce4296b-40c7-4c7c-c6d7-e5a753767229"
      },
      "outputs": [
        {
          "name": "stdout",
          "output_type": "stream",
          "text": [
            "Final dataset shape: 27449 rows, 6 columns\n"
          ]
        },
        {
          "data": {
            "text/plain": [
              "(27449, 6)"
            ]
          },
          "execution_count": 19,
          "metadata": {},
          "output_type": "execute_result"
        }
      ],
      "source": [
        "# Check our final dataset size\n",
        "print(f\"Final dataset shape: {df.shape[0]} rows, {df.shape[1]} columns\")\n",
        "df.shape"
      ]
    },
    {
      "cell_type": "markdown",
      "metadata": {
        "id": "jj3mo776JtN_"
      },
      "source": [
        "## Building LSTM Model\n",
        "\n",
        "**What is LSTM?** Long Short-Term Memory networks are a type of neural network that can remember information for long periods, making them excellent for text analysis where word order and context matter."
      ]
    },
    {
      "cell_type": "code",
      "execution_count": 21,
      "metadata": {
        "colab": {
          "base_uri": "https://localhost:8080/"
        },
        "id": "Fj31GQ57JtN_",
        "outputId": "c73d4189-5fac-417b-f344-0f93caf623f6"
      },
      "outputs": [
        {
          "name": "stdout",
          "output_type": "stream",
          "text": [
            "Unique Sentiments: [1 0 2]\n",
            "Training set: 21959 samples\n",
            "Testing set: 5490 samples\n"
          ]
        },
        {
          "data": {
            "text/plain": [
              "((21959,), (21959,), (5490,), (5490,))"
            ]
          },
          "execution_count": 21,
          "metadata": {},
          "output_type": "execute_result"
        }
      ],
      "source": [
        "# Prepare data for machine learning\n",
        "from sklearn.model_selection import train_test_split\n",
        "from tensorflow.keras.layers import Embedding, LSTM, Dense, Dropout\n",
        "from tensorflow.keras.preprocessing.text import Tokenizer\n",
        "from tensorflow.keras.preprocessing.sequence import pad_sequences\n",
        "from joblib import dump\n",
        "\n",
        "# TODO: Define features (X) and target variable (y)\n",
        "X = df['text']  # The text we want to classify\n",
        "y = df['sentiment']  # The sentiment labels\n",
        "\n",
        "# Check unique values in the sentiment column\n",
        "unique_sentiments = y.unique()\n",
        "print(\"Unique Sentiments:\", unique_sentiments)\n",
        "\n",
        "# TODO: Split data into training and testing sets (80% train, 20% test)\n",
        "X_train, X_test, y_train, y_test = train_test_split(X, y, test_size=0.2, random_state=7)\n",
        "\n",
        "print(f\"Training set: {X_train.shape[0]} samples\")\n",
        "print(f\"Testing set: {X_test.shape[0]} samples\")\n",
        "X_train.shape, y_train.shape, X_test.shape, y_test.shape\n",
        "\n",
        "# 💡 Hint: X should be 'selected_text' and y should be 'sentiment'. Test size of 0.2 means 20% for testing"
      ]
    },
    {
      "cell_type": "code",
      "execution_count": 22,
      "metadata": {
        "colab": {
          "base_uri": "https://localhost:8080/",
          "height": 35
        },
        "id": "y8WlBIikJtOF",
        "outputId": "1fa9c3f6-60ad-4388-a74a-3a563d54e0ae"
      },
      "outputs": [
        {
          "name": "stdout",
          "output_type": "stream",
          "text": [
            "Sample tweet: My door looks naked   It makes my room feel bigger though.\n"
          ]
        },
        {
          "data": {
            "text/plain": [
              "'My door looks naked   It makes my room feel bigger though.'"
            ]
          },
          "execution_count": 22,
          "metadata": {},
          "output_type": "execute_result"
        }
      ],
      "source": [
        "# Look at a sample training text to understand our data\n",
        "print(\"Sample tweet:\", X_train.iloc[1])\n",
        "X_train.iloc[1]"
      ]
    },
    {
      "cell_type": "markdown",
      "metadata": {
        "id": "tokenization-concept"
      },
      "source": [
        "## Text Tokenization\n",
        "\n",
        "**Key Concept:** Neural networks need numerical input. Tokenization converts text to numbers:\n",
        "- \"I love this movie\" → [5, 23, 8, 102]\n",
        "- Each unique word gets a unique number"
      ]
    },
    {
      "cell_type": "code",
      "execution_count": 23,
      "metadata": {
        "colab": {
          "base_uri": "https://localhost:8080/"
        },
        "id": "hTndNnRNJtOG",
        "outputId": "a0c0e106-5179-4f89-de0d-d919e50a19fb"
      },
      "outputs": [
        {
          "name": "stdout",
          "output_type": "stream",
          "text": [
            "Type of sequences: <class 'list'>\n"
          ]
        },
        {
          "data": {
            "text/plain": [
              "(list, list)"
            ]
          },
          "execution_count": 23,
          "metadata": {},
          "output_type": "execute_result"
        }
      ],
      "source": [
        "# Tokenize text: Convert words to numerical sequences\n",
        "# num_words=20000 means we keep only the 20,000 most frequent words\n",
        "\n",
        "# TODO: Create a tokenizer that keeps the top 20,000 most common words\n",
        "tokenizer = Tokenizer(num_words=20000)\n",
        "\n",
        "# Fit tokenizer on training data only (important: don't use test data!)\n",
        "tokenizer.fit_on_texts(X_train)\n",
        "\n",
        "# Convert text to sequences of numbers\n",
        "X_train_seq = tokenizer.texts_to_sequences(X_train)\n",
        "X_test_seq = tokenizer.texts_to_sequences(X_test)\n",
        "\n",
        "print(f\"Type of sequences: {type(X_train_seq)}\")\n",
        "type(X_train_seq), type(X_test_seq)\n",
        "\n",
        "# 💡 Hint: We typically use 20000 as a good balance between vocabulary size and computational efficiency"
      ]
    },
    {
      "cell_type": "code",
      "execution_count": 24,
      "metadata": {
        "colab": {
          "base_uri": "https://localhost:8080/"
        },
        "id": "1LGSNz8YJtOH",
        "outputId": "e3bbebbe-84ca-4a02-ac01-f6c1199ba13c"
      },
      "outputs": [
        {
          "name": "stdout",
          "output_type": "stream",
          "text": [
            "Original text: My door looks naked   It makes my room feel bigger though.\n",
            "Tokenized version: [5, 1019, 236, 2978, 6, 293, 5, 439, 111, 2092, 126]\n"
          ]
        },
        {
          "data": {
            "text/plain": [
              "[5, 1019, 236, 2978, 6, 293, 5, 439, 111, 2092, 126]"
            ]
          },
          "execution_count": 24,
          "metadata": {},
          "output_type": "execute_result"
        }
      ],
      "source": [
        "# Compare original text with its tokenized version\n",
        "print(\"Original text:\", X_train.iloc[1])\n",
        "print(\"Tokenized version:\", X_train_seq[1])\n",
        "X_train_seq[1]"
      ]
    },
    {
      "cell_type": "markdown",
      "metadata": {
        "id": "padding-concept"
      },
      "source": [
        "## Sequence Padding\n",
        "\n",
        "**Key Concept:** Neural networks need fixed-size input. Since tweets have different lengths, we:\n",
        "- Pad short tweets with zeros: [5, 23] → [5, 23, 0, 0, 0]\n",
        "- Truncate long tweets: [1,2,3,4,5,6,7] → [1,2,3,4,5] (if maxlen=5)"
      ]
    },
    {
      "cell_type": "code",
      "execution_count": 25,
      "metadata": {
        "colab": {
          "base_uri": "https://localhost:8080/"
        },
        "id": "vShR8KGiJtOH",
        "outputId": "63b3b685-1fac-46bc-bd14-a66f6c97de85"
      },
      "outputs": [
        {
          "name": "stdout",
          "output_type": "stream",
          "text": [
            "Padded training shape: (21959, 33)\n",
            "Padded testing shape: (5490, 33)\n"
          ]
        },
        {
          "data": {
            "text/plain": [
              "((21959, 33), (5490, 33))"
            ]
          },
          "execution_count": 25,
          "metadata": {},
          "output_type": "execute_result"
        }
      ],
      "source": [
        "# Pad sequences to ensure uniform input size\n",
        "# maxlen=33 means all sequences will have exactly 33 elements\n",
        "# padding='post' adds zeros at the end\n",
        "\n",
        "# TODO: Pad sequences to length 33\n",
        "X_train_pad = pad_sequences(X_train_seq, maxlen=33, padding='post')\n",
        "X_test_pad = pad_sequences(X_test_seq, maxlen=33, padding='post')\n",
        "\n",
        "print(f\"Padded training shape: {X_train_pad.shape}\")\n",
        "print(f\"Padded testing shape: {X_test_pad.shape}\")\n",
        "X_train_pad.shape, X_test_pad.shape\n",
        "\n",
        "# 💡 Hint: We chose 33 based on the word count analysis - most tweets have ≤33 words"
      ]
    },
    {
      "cell_type": "code",
      "execution_count": 26,
      "metadata": {
        "colab": {
          "base_uri": "https://localhost:8080/"
        },
        "id": "B5k_2nGvJtON",
        "outputId": "80ef4820-28c1-491b-dd33-59c5a1510413"
      },
      "outputs": [
        {
          "name": "stdout",
          "output_type": "stream",
          "text": [
            "Tokenized sequence: [5, 1019, 236, 2978, 6, 293, 5, 439, 111, 2092, 126]\n",
            "Padded sequence: [   5 1019  236 2978    6  293    5  439  111 2092  126    0    0    0\n",
            "    0    0    0    0    0    0    0    0    0    0    0    0    0    0\n",
            "    0    0    0    0    0]\n"
          ]
        },
        {
          "data": {
            "text/plain": [
              "array([   5, 1019,  236, 2978,    6,  293,    5,  439,  111, 2092,  126,\n",
              "          0,    0,    0,    0,    0,    0,    0,    0,    0,    0,    0,\n",
              "          0,    0,    0,    0,    0,    0,    0,    0,    0,    0,    0],\n",
              "      dtype=int32)"
            ]
          },
          "execution_count": 26,
          "metadata": {},
          "output_type": "execute_result"
        }
      ],
      "source": [
        "# Compare tokenized sequence with its padded version\n",
        "print(\"Tokenized sequence:\", X_train_seq[1])\n",
        "print(\"Padded sequence:\", X_train_pad[1])\n",
        "X_train_pad[1]"
      ]
    },
    {
      "cell_type": "code",
      "execution_count": 27,
      "metadata": {
        "colab": {
          "base_uri": "https://localhost:8080/"
        },
        "id": "F3FczhzLJtOO",
        "outputId": "355e876c-f379-400e-8fcb-1c35143c547f"
      },
      "outputs": [
        {
          "name": "stdout",
          "output_type": "stream",
          "text": [
            "Number of classes: 3\n"
          ]
        },
        {
          "data": {
            "text/plain": [
              "3"
            ]
          },
          "execution_count": 27,
          "metadata": {},
          "output_type": "execute_result"
        }
      ],
      "source": [
        "# Count the number of classes for our model output layer\n",
        "# TODO: Calculate number of unique sentiment classes\n",
        "num_classes = len(unique_sentiments)\n",
        "print(f\"Number of classes: {num_classes}\")\n",
        "num_classes\n",
        "\n",
        "# 💡 Hint: Use unique_sentiments variable we created earlier"
      ]
    },
    {
      "cell_type": "markdown",
      "metadata": {
        "id": "T9EjvTgrJtOP"
      },
      "source": [
        "## LSTM Model Architecture\n",
        "\n",
        "**Model Components:**\n",
        "1. **Embedding Layer**: Converts word indices to dense vectors\n",
        "2. **LSTM Layer**: Processes sequential information\n",
        "3. **Dense Layers**: Final classification layers\n",
        "4. **Dropout**: Prevents overfitting\n",
        "\n",
        "### Parameter Selection Guide:\n",
        "\n",
        "**Vocabulary Size**: Number of unique words + 1 (for padding)\n",
        "- Get from tokenizer: `len(tokenizer.word_index) + 1`\n",
        "\n",
        "**Embedding Dimensions**: \n",
        "- Small vocab (<5K): 50-100 dimensions\n",
        "- Medium vocab (5K-20K): 100-200 dimensions\n",
        "- Large vocab (>20K): 200-300 dimensions\n",
        "\n",
        "**LSTM Units**: \n",
        "- Simple tasks: 64-128 units\n",
        "- Complex tasks: 256-512 units"
      ]
    },
    {
      "cell_type": "code",
      "execution_count": 28,
      "metadata": {
        "colab": {
          "base_uri": "https://localhost:8080/"
        },
        "id": "8bt5fWgWJtOU",
        "outputId": "4b44a4e5-6d83-4c6e-b5d9-1d0b573ee40a"
      },
      "outputs": [
        {
          "name": "stdout",
          "output_type": "stream",
          "text": [
            "Vocabulary size: 23103 words\n"
          ]
        },
        {
          "data": {
            "text/plain": [
              "23103"
            ]
          },
          "execution_count": 28,
          "metadata": {},
          "output_type": "execute_result"
        }
      ],
      "source": [
        "# Calculate vocabulary size from our fitted tokenizer\n",
        "# +1 because index 0 is reserved for padding tokens\n",
        "\n",
        "# TODO: Calculate vocabulary size from tokenizer\n",
        "vocab_size = len(tokenizer.word_index) + 1\n",
        "print(f\"Vocabulary size: {vocab_size} words\")\n",
        "vocab_size\n",
        "\n",
        "# 💡 Hint: The word_index attribute contains all unique words mapped to numbers"
      ]
    },
    {
      "cell_type": "code",
      "execution_count": 29,
      "metadata": {
        "id": "XTxWVya_JtOV"
      },
      "outputs": [],
      "source": [
        "# Import additional modules for advanced model features\n",
        "from sklearn.utils.class_weight import compute_class_weight\n",
        "from keras.layers import Bidirectional\n",
        "from keras.optimizers import Adam\n",
        "from keras.callbacks import ReduceLROnPlateau"
      ]
    },
    {
      "cell_type": "code",
      "execution_count": 30,
      "metadata": {
        "colab": {
          "base_uri": "https://localhost:8080/"
        },
        "id": "5tcP5nzaJtOW",
        "outputId": "45b39821-6939-456a-b7ca-dbae90a3423f"
      },
      "outputs": [
        {
          "name": "stdout",
          "output_type": "stream",
          "text": [
            "Classes in training data: [0 1 2]\n"
          ]
        },
        {
          "data": {
            "text/plain": [
              "array([0, 1, 2])"
            ]
          },
          "execution_count": 30,
          "metadata": {},
          "output_type": "execute_result"
        }
      ],
      "source": [
        "# Get unique classes in training data for class weight calculation\n",
        "classes = np.unique(y_train)\n",
        "print(\"Classes in training data:\", classes)\n",
        "classes"
      ]
    },
    {
      "cell_type": "code",
      "execution_count": 31,
      "metadata": {
        "colab": {
          "base_uri": "https://localhost:8080/"
        },
        "id": "-NWZTK5jJtOb",
        "outputId": "68f8a654-da67-4947-e340-3cb2eb34030e"
      },
      "outputs": [
        {
          "name": "stdout",
          "output_type": "stream",
          "text": [
            "Sample label: 0\n"
          ]
        },
        {
          "data": {
            "text/plain": [
              "np.int64(0)"
            ]
          },
          "execution_count": 31,
          "metadata": {},
          "output_type": "execute_result"
        }
      ],
      "source": [
        "# Look at a sample label\n",
        "print(\"Sample label:\", y_train.iloc[0])\n",
        "y_train.iloc[0]"
      ]
    },
    {
      "cell_type": "markdown",
      "metadata": {
        "id": "class-weights-concept"
      },
      "source": [
        "## Handling Class Imbalance\n",
        "\n",
        "**Why Class Weights?** If we have 1000 positive tweets but only 100 negative tweets, our model might just predict \"positive\" for everything and get 90% accuracy! Class weights help balance this by giving more importance to underrepresented classes."
      ]
    },
    {
      "cell_type": "code",
      "execution_count": 32,
      "metadata": {
        "colab": {
          "base_uri": "https://localhost:8080/"
        },
        "id": "qvso8_dqJtOc",
        "outputId": "acd6d6e6-5acb-4b17-8f0b-d27374aa841d"
      },
      "outputs": [
        {
          "name": "stdout",
          "output_type": "stream",
          "text": [
            "Class weights type: <class 'numpy.ndarray'>\n"
          ]
        },
        {
          "data": {
            "text/plain": [
              "numpy.ndarray"
            ]
          },
          "execution_count": 32,
          "metadata": {},
          "output_type": "execute_result"
        }
      ],
      "source": [
        "# **OPTIONAL SECTION** - Compute class weights to handle imbalanced data\n",
        "# This gives more weight to underrepresented classes during training\n",
        "\n",
        "cw = compute_class_weight(class_weight='balanced', classes=classes, y=y_train)\n",
        "print(f\"Class weights type: {type(cw)}\")\n",
        "type(cw)"
      ]
    },
    {
      "cell_type": "code",
      "execution_count": 33,
      "metadata": {
        "colab": {
          "base_uri": "https://localhost:8080/"
        },
        "id": "SZgH8YZGJtOc",
        "outputId": "e6845ebb-d293-48d4-d4e5-dbaf3e4866b6"
      },
      "outputs": [
        {
          "name": "stdout",
          "output_type": "stream",
          "text": [
            "Computed class weights: [1.17774202 0.82698753 1.06189854]\n"
          ]
        },
        {
          "data": {
            "text/plain": [
              "array([1.17774202, 0.82698753, 1.06189854])"
            ]
          },
          "execution_count": 33,
          "metadata": {},
          "output_type": "execute_result"
        }
      ],
      "source": [
        "# Display computed class weights\n",
        "print(\"Computed class weights:\", cw)\n",
        "cw"
      ]
    },
    {
      "cell_type": "code",
      "execution_count": 34,
      "metadata": {
        "colab": {
          "base_uri": "https://localhost:8080/"
        },
        "id": "zohpcFHGJtOi",
        "outputId": "d1ab9ca6-92d0-4e06-a976-28e3ee451c61"
      },
      "outputs": [
        {
          "name": "stdout",
          "output_type": "stream",
          "text": [
            "Class weight dictionary:\n"
          ]
        },
        {
          "data": {
            "text/plain": [
              "{0: 1.1777420219898096, 1: 0.8269875343652318, 2: 1.0618985444170415}"
            ]
          },
          "execution_count": 34,
          "metadata": {},
          "output_type": "execute_result"
        }
      ],
      "source": [
        "# **OPTIONAL SECTION** - Create class weight dictionary for Keras\n",
        "# Convert numpy array to dictionary format required by Keras\n",
        "\n",
        "class_weight = {int(cls): float(w) for cls, w in zip(classes, cw)}\n",
        "print(\"Class weight dictionary:\")\n",
        "class_weight"
      ]
    },
    {
      "cell_type": "code",
      "execution_count": 35,
      "metadata": {
        "colab": {
          "base_uri": "https://localhost:8080/"
        },
        "id": "hKBNIKVnJtOj",
        "outputId": "c39da71d-c4dd-4d10-f8ac-55abcff1b151"
      },
      "outputs": [
        {
          "name": "stdout",
          "output_type": "stream",
          "text": [
            "Sequence length: 33\n"
          ]
        },
        {
          "data": {
            "text/plain": [
              "33"
            ]
          },
          "execution_count": 35,
          "metadata": {},
          "output_type": "execute_result"
        }
      ],
      "source": [
        "# Get sequence length for our model input layer\n",
        "sequence_length = X_train_pad.shape[1]\n",
        "print(f\"Sequence length: {sequence_length}\")\n",
        "sequence_length"
      ]
    },
    {
      "cell_type": "code",
      "execution_count": 36,
      "metadata": {
        "colab": {
          "base_uri": "https://localhost:8080/",
          "height": 306
        },
        "id": "ifBWOT1pJtOk",
        "outputId": "80ea73f7-f060-4202-d2e9-2f9c7e7ba139"
      },
      "outputs": [
        {
          "data": {
            "text/html": [
              "<pre style=\"white-space:pre;overflow-x:auto;line-height:normal;font-family:Menlo,'DejaVu Sans Mono',consolas,'Courier New',monospace\"><span style=\"font-weight: bold\">Model: \"sequential\"</span>\n",
              "</pre>\n"
            ],
            "text/plain": [
              "\u001b[1mModel: \"sequential\"\u001b[0m\n"
            ]
          },
          "metadata": {},
          "output_type": "display_data"
        },
        {
          "data": {
            "text/html": [
              "<pre style=\"white-space:pre;overflow-x:auto;line-height:normal;font-family:Menlo,'DejaVu Sans Mono',consolas,'Courier New',monospace\">┏━━━━━━━━━━━━━━━━━━━━━━━━━━━━━━━━━┳━━━━━━━━━━━━━━━━━━━━━━━━┳━━━━━━━━━━━━━━━┓\n",
              "┃<span style=\"font-weight: bold\"> Layer (type)                    </span>┃<span style=\"font-weight: bold\"> Output Shape           </span>┃<span style=\"font-weight: bold\">       Param # </span>┃\n",
              "┡━━━━━━━━━━━━━━━━━━━━━━━━━━━━━━━━━╇━━━━━━━━━━━━━━━━━━━━━━━━╇━━━━━━━━━━━━━━━┩\n",
              "│ embedding (<span style=\"color: #0087ff; text-decoration-color: #0087ff\">Embedding</span>)           │ ?                      │   <span style=\"color: #00af00; text-decoration-color: #00af00\">0</span> (unbuilt) │\n",
              "├─────────────────────────────────┼────────────────────────┼───────────────┤\n",
              "│ bidirectional (<span style=\"color: #0087ff; text-decoration-color: #0087ff\">Bidirectional</span>)   │ ?                      │   <span style=\"color: #00af00; text-decoration-color: #00af00\">0</span> (unbuilt) │\n",
              "├─────────────────────────────────┼────────────────────────┼───────────────┤\n",
              "│ dense (<span style=\"color: #0087ff; text-decoration-color: #0087ff\">Dense</span>)                   │ ?                      │   <span style=\"color: #00af00; text-decoration-color: #00af00\">0</span> (unbuilt) │\n",
              "├─────────────────────────────────┼────────────────────────┼───────────────┤\n",
              "│ dropout (<span style=\"color: #0087ff; text-decoration-color: #0087ff\">Dropout</span>)               │ ?                      │             <span style=\"color: #00af00; text-decoration-color: #00af00\">0</span> │\n",
              "├─────────────────────────────────┼────────────────────────┼───────────────┤\n",
              "│ dense_1 (<span style=\"color: #0087ff; text-decoration-color: #0087ff\">Dense</span>)                 │ ?                      │   <span style=\"color: #00af00; text-decoration-color: #00af00\">0</span> (unbuilt) │\n",
              "└─────────────────────────────────┴────────────────────────┴───────────────┘\n",
              "</pre>\n"
            ],
            "text/plain": [
              "┏━━━━━━━━━━━━━━━━━━━━━━━━━━━━━━━━━┳━━━━━━━━━━━━━━━━━━━━━━━━┳━━━━━━━━━━━━━━━┓\n",
              "┃\u001b[1m \u001b[0m\u001b[1mLayer (type)                   \u001b[0m\u001b[1m \u001b[0m┃\u001b[1m \u001b[0m\u001b[1mOutput Shape          \u001b[0m\u001b[1m \u001b[0m┃\u001b[1m \u001b[0m\u001b[1m      Param #\u001b[0m\u001b[1m \u001b[0m┃\n",
              "┡━━━━━━━━━━━━━━━━━━━━━━━━━━━━━━━━━╇━━━━━━━━━━━━━━━━━━━━━━━━╇━━━━━━━━━━━━━━━┩\n",
              "│ embedding (\u001b[38;5;33mEmbedding\u001b[0m)           │ ?                      │   \u001b[38;5;34m0\u001b[0m (unbuilt) │\n",
              "├─────────────────────────────────┼────────────────────────┼───────────────┤\n",
              "│ bidirectional (\u001b[38;5;33mBidirectional\u001b[0m)   │ ?                      │   \u001b[38;5;34m0\u001b[0m (unbuilt) │\n",
              "├─────────────────────────────────┼────────────────────────┼───────────────┤\n",
              "│ dense (\u001b[38;5;33mDense\u001b[0m)                   │ ?                      │   \u001b[38;5;34m0\u001b[0m (unbuilt) │\n",
              "├─────────────────────────────────┼────────────────────────┼───────────────┤\n",
              "│ dropout (\u001b[38;5;33mDropout\u001b[0m)               │ ?                      │             \u001b[38;5;34m0\u001b[0m │\n",
              "├─────────────────────────────────┼────────────────────────┼───────────────┤\n",
              "│ dense_1 (\u001b[38;5;33mDense\u001b[0m)                 │ ?                      │   \u001b[38;5;34m0\u001b[0m (unbuilt) │\n",
              "└─────────────────────────────────┴────────────────────────┴───────────────┘\n"
            ]
          },
          "metadata": {},
          "output_type": "display_data"
        },
        {
          "data": {
            "text/html": [
              "<pre style=\"white-space:pre;overflow-x:auto;line-height:normal;font-family:Menlo,'DejaVu Sans Mono',consolas,'Courier New',monospace\"><span style=\"font-weight: bold\"> Total params: </span><span style=\"color: #00af00; text-decoration-color: #00af00\">0</span> (0.00 B)\n",
              "</pre>\n"
            ],
            "text/plain": [
              "\u001b[1m Total params: \u001b[0m\u001b[38;5;34m0\u001b[0m (0.00 B)\n"
            ]
          },
          "metadata": {},
          "output_type": "display_data"
        },
        {
          "data": {
            "text/html": [
              "<pre style=\"white-space:pre;overflow-x:auto;line-height:normal;font-family:Menlo,'DejaVu Sans Mono',consolas,'Courier New',monospace\"><span style=\"font-weight: bold\"> Trainable params: </span><span style=\"color: #00af00; text-decoration-color: #00af00\">0</span> (0.00 B)\n",
              "</pre>\n"
            ],
            "text/plain": [
              "\u001b[1m Trainable params: \u001b[0m\u001b[38;5;34m0\u001b[0m (0.00 B)\n"
            ]
          },
          "metadata": {},
          "output_type": "display_data"
        },
        {
          "data": {
            "text/html": [
              "<pre style=\"white-space:pre;overflow-x:auto;line-height:normal;font-family:Menlo,'DejaVu Sans Mono',consolas,'Courier New',monospace\"><span style=\"font-weight: bold\"> Non-trainable params: </span><span style=\"color: #00af00; text-decoration-color: #00af00\">0</span> (0.00 B)\n",
              "</pre>\n"
            ],
            "text/plain": [
              "\u001b[1m Non-trainable params: \u001b[0m\u001b[38;5;34m0\u001b[0m (0.00 B)\n"
            ]
          },
          "metadata": {},
          "output_type": "display_data"
        }
      ],
      "source": [
        "import keras\n",
        "\n",
        "# Build the LSTM model architecture\n",
        "\n",
        "# TODO: Complete the model architecture\n",
        "lstm_model = Sequential([\n",
        "    # Embedding layer: converts word indices to dense vectors\n",
        "    Embedding(input_dim=vocab_size,  # vocabulary size\n",
        "              output_dim=100,  # embedding dimension (100 is good for medium vocab)\n",
        "              input_length=sequence_length  # length of input sequences\n",
        "              ),\n",
        "    \n",
        "    # Bidirectional LSTM: processes text in both forward and backward directions\n",
        "    Bidirectional(LSTM(256,  # 256 LSTM units\n",
        "                       return_sequences=False,  # only return final output\n",
        "                       dropout=0.3,  # prevent overfitting\n",
        "                       recurrent_dropout=0.3,  # dropout for recurrent connections\n",
        "                       kernel_regularizer=keras.regularizers.l2(0.001)  # L2 regularization\n",
        "                       )),\n",
        "    \n",
        "    # Dense layer for feature learning\n",
        "    Dense(128, activation='relu', kernel_regularizer=keras.regularizers.l2(0.001)),\n",
        "    Dropout(0.6),  # High dropout to prevent overfitting\n",
        "    \n",
        "    # Output layer: number of neurons = number of classes\n",
        "    Dense(3, activation='softmax')  # softmax for multi-class classification\n",
        "])\n",
        "\n",
        "# Compile the model with optimizer, loss function, and metrics\n",
        "lstm_model.compile(\n",
        "    optimizer=Adam(learning_rate=0.001),  # Adam optimizer with learning rate\n",
        "    loss='sparse_categorical_crossentropy',  # loss function for integer labels\n",
        "    metrics=['accuracy']\n",
        ")\n",
        "\n",
        "# Display model architecture\n",
        "lstm_model.summary()\n",
        "\n",
        "# 💡 Hint: input_dim should be vocab_size, and Dense output should be num_classes"
      ]
    },
    {
      "cell_type": "markdown",
      "metadata": {
        "id": "training-concept"
      },
      "source": [
        "## Model Training\n",
        "\n",
        "**Training Process:**\n",
        "1. **EarlyStopping**: Stops training if validation loss stops improving\n",
        "2. **ReduceLROnPlateau**: Reduces learning rate when training plateaus\n",
        "3. **Validation Split**: Uses 20% of training data for validation\n",
        "4. **Class Weights**: Balances the impact of different sentiment classes"
      ]
    },
    {
      "cell_type": "code",
      "execution_count": 37,
      "metadata": {
        "colab": {
          "base_uri": "https://localhost:8080/"
        },
        "id": "PHsJarN2JtOq",
        "outputId": "fd8b38cf-b5e1-452d-a19f-e86480e2cf53"
      },
      "outputs": [
        {
          "name": "stdout",
          "output_type": "stream",
          "text": [
            "Epoch 1/12\n",
            "\u001b[1m138/138\u001b[0m \u001b[32m━━━━━━━━━━━━━━━━━━━━\u001b[0m\u001b[37m\u001b[0m \u001b[1m25s\u001b[0m 148ms/step - accuracy: 0.4638 - loss: 1.1166 - val_accuracy: 0.5421 - val_loss: 0.9283 - learning_rate: 0.0010\n",
            "Epoch 2/12\n",
            "\u001b[1m138/138\u001b[0m \u001b[32m━━━━━━━━━━━━━━━━━━━━\u001b[0m\u001b[37m\u001b[0m \u001b[1m19s\u001b[0m 141ms/step - accuracy: 0.6310 - loss: 0.8364 - val_accuracy: 0.6421 - val_loss: 0.8293 - learning_rate: 0.0010\n",
            "Epoch 3/12\n",
            "\u001b[1m138/138\u001b[0m \u001b[32m━━━━━━━━━━━━━━━━━━━━\u001b[0m\u001b[37m\u001b[0m \u001b[1m19s\u001b[0m 141ms/step - accuracy: 0.7438 - loss: 0.6598 - val_accuracy: 0.6687 - val_loss: 0.8226 - learning_rate: 0.0010\n",
            "Epoch 4/12\n",
            "\u001b[1m138/138\u001b[0m \u001b[32m━━━━━━━━━━━━━━━━━━━━\u001b[0m\u001b[37m\u001b[0m \u001b[1m0s\u001b[0m 132ms/step - accuracy: 0.8091 - loss: 0.5357\n",
            "Epoch 4: ReduceLROnPlateau reducing learning rate to 0.0005000000237487257.\n",
            "\u001b[1m138/138\u001b[0m \u001b[32m━━━━━━━━━━━━━━━━━━━━\u001b[0m\u001b[37m\u001b[0m \u001b[1m19s\u001b[0m 140ms/step - accuracy: 0.8065 - loss: 0.5492 - val_accuracy: 0.6719 - val_loss: 0.8441 - learning_rate: 0.0010\n",
            "Epoch 5/12\n",
            "\u001b[1m138/138\u001b[0m \u001b[32m━━━━━━━━━━━━━━━━━━━━\u001b[0m\u001b[37m\u001b[0m \u001b[1m0s\u001b[0m 138ms/step - accuracy: 0.8553 - loss: 0.4564\n",
            "Epoch 5: ReduceLROnPlateau reducing learning rate to 0.0002500000118743628.\n",
            "\u001b[1m138/138\u001b[0m \u001b[32m━━━━━━━━━━━━━━━━━━━━\u001b[0m\u001b[37m\u001b[0m \u001b[1m20s\u001b[0m 147ms/step - accuracy: 0.8548 - loss: 0.4519 - val_accuracy: 0.6746 - val_loss: 0.8855 - learning_rate: 5.0000e-04\n",
            "Epoch 6/12\n",
            "\u001b[1m138/138\u001b[0m \u001b[32m━━━━━━━━━━━━━━━━━━━━\u001b[0m\u001b[37m\u001b[0m \u001b[1m0s\u001b[0m 149ms/step - accuracy: 0.8867 - loss: 0.3873\n",
            "Epoch 6: ReduceLROnPlateau reducing learning rate to 0.0001250000059371814.\n",
            "\u001b[1m138/138\u001b[0m \u001b[32m━━━━━━━━━━━━━━━━━━━━\u001b[0m\u001b[37m\u001b[0m \u001b[1m22s\u001b[0m 159ms/step - accuracy: 0.8841 - loss: 0.3912 - val_accuracy: 0.6758 - val_loss: 0.9331 - learning_rate: 2.5000e-04\n"
          ]
        }
      ],
      "source": [
        "# Set up training callbacks for better training control\n",
        "\n",
        "# EarlyStopping: stops training if validation loss doesn't improve for 3 epochs\n",
        "early_stop = EarlyStopping(monitor='val_loss', patience=3, restore_best_weights=True)\n",
        "\n",
        "# ReduceLROnPlateau: reduces learning rate when validation loss plateaus\n",
        "reduce_lr = ReduceLROnPlateau(monitor='val_loss', factor=0.5, patience=1, min_lr=1e-6, verbose=1)\n",
        "\n",
        "# Convert labels to numpy array for compatibility\n",
        "y_train_np = np.asarray(y_train).astype('int32')\n",
        "\n",
        "# Train the model with GPU acceleration\n",
        "# TODO: Complete the training configuration\n",
        "with tf.device(device_name):  # Use GPU device\n",
        "    h2 = lstm_model.fit(\n",
        "        X_train_pad,  # Training features (padded sequences)\n",
        "        y_train,  # Training labels\n",
        "        epochs=12,  # Number of training epochs\n",
        "        batch_size=128,  # Number of samples per batch\n",
        "        validation_split=0.2,  # Use 20% of training data for validation\n",
        "        callbacks=[early_stop, reduce_lr],  # Training callbacks\n",
        "        class_weight=class_weight  # Apply class weights for balanced training\n",
        "    )\n",
        "\n",
        "# 💡 Hint: Use y_train for training labels and 0.2 for validation_split (20%)"
      ]
    },
    {
      "cell_type": "code",
      "execution_count": 38,
      "metadata": {
        "id": "XXxE0uGJNcbf"
      },
      "outputs": [],
      "source": [
        "# Helper function for plotting learning curves\n",
        "# This helps us visualize how well our model learned over time\n",
        "\n",
        "def plot_learning_curve(hist):\n",
        "    \"\"\"Plot training and validation accuracy over epochs\"\"\"\n",
        "    plt.figure(figsize=(5, 4))\n",
        "\n",
        "    # Extract accuracy data from training history\n",
        "    train = hist.history['accuracy']\n",
        "    val = hist.history['val_accuracy']\n",
        "    epochs_run = range(1, len(train) + 1)\n",
        "\n",
        "    # Create DataFrames for plotting\n",
        "    train_temp = pd.DataFrame({\"Epochs\": epochs_run, \"Training Accuracy\": train})\n",
        "    val_temp = pd.DataFrame({\"Epochs\": epochs_run, \"Validation Accuracy\": val})\n",
        "\n",
        "    # Plot both curves\n",
        "    sns.lineplot(data=train_temp, x='Epochs', y='Training Accuracy', \n",
        "                marker='o', color='coral', label='Training Accuracy')\n",
        "    sns.lineplot(data=val_temp, x='Epochs', y='Validation Accuracy', \n",
        "                marker='>', color='green', label='Validation Accuracy')\n",
        "\n",
        "    plt.title(\"Model Performance: Accuracy vs. Epochs\", fontsize=16)\n",
        "    plt.ylim(0, 1)\n",
        "    plt.legend()\n",
        "    plt.show()"
      ]
    },
    {
      "cell_type": "code",
      "execution_count": 39,
      "metadata": {
        "colab": {
          "base_uri": "https://localhost:8080/",
          "height": 427
        },
        "id": "sCCzu0-rJtOq",
        "outputId": "278fa1d0-a271-43ef-ce3b-a3ef9960c065"
      },
      "outputs": [
        {
          "data": {
            "image/png": "[encoded data removed]",
            "text/plain": [
              "<Figure size 500x400 with 1 Axes>"
            ]
          },
          "metadata": {},
          "output_type": "display_data"
        }
      ],
      "source": [
        "# Plot the learning curves to analyze training performance\n",
        "# This helps us understand if the model is learning properly\n",
        "\n",
        "# TODO: Plot the learning curve using our training history\n",
        "plot_learning_curve(h2)\n",
        "\n",
        "# 💡 Hint: Use the training history object 'h2' that was returned from model.fit()"
      ]
    },
    {
      "cell_type": "markdown",
      "metadata": {
        "id": "evaluation-concept"
      },
      "source": [
        "## Model Evaluation\n",
        "\n",
        "**Understanding the Learning Curve:**\n",
        "- **Good fit**: Training and validation accuracy are close and both improving\n",
        "- **Overfitting**: Training accuracy much higher than validation accuracy\n",
        "- **Underfitting**: Both accuracies are low and not improving"
      ]
    },
    {
      "cell_type": "code",
      "execution_count": 40,
      "metadata": {
        "colab": {
          "base_uri": "https://localhost:8080/"
        },
        "id": "9JksfTIjJtOr",
        "outputId": "1c2b3f65-3772-4f9f-9826-bb01b40d39eb"
      },
      "outputs": [
        {
          "name": "stdout",
          "output_type": "stream",
          "text": [
            "\u001b[1m172/172\u001b[0m \u001b[32m━━━━━━━━━━━━━━━━━━━━\u001b[0m\u001b[37m\u001b[0m \u001b[1m4s\u001b[0m 20ms/step - accuracy: 0.6678 - loss: 0.8108\n",
            "Testing Accuracy: 66.78%\n"
          ]
        }
      ],
      "source": [
        "# Evaluate the model on test data (data the model has never seen!)\n",
        "# This gives us the true performance of our model\n",
        "\n",
        "# TODO: Evaluate the model on test data\n",
        "loss, acc = lstm_model.evaluate(X_test_pad, y_test)\n",
        "print(f\"Testing Accuracy: {acc*100:.2f}%\")\n",
        "\n",
        "# 💡 Hint: Use X_test_pad (the padded test sequences) for evaluation"
      ]
    },
    {
      "cell_type": "markdown",
      "metadata": {
        "id": "model-saving-concept"
      },
      "source": [
        "## Model Deployment Preparation\n",
        "\n",
        "**Why Save Models?** \n",
        "- **Model file (.keras)**: Contains the trained neural network\n",
        "- **Tokenizer file (.joblib)**: Contains the word-to-number mapping\n",
        "- **Class mapping (.json)**: Maps numbers back to sentiment labels\n",
        "\n",
        "All three files are needed to make predictions on new tweets!"
      ]
    },
    {
      "cell_type": "code",
      "execution_count": 41,
      "metadata": {
        "colab": {
          "base_uri": "https://localhost:8080/"
        },
        "id": "0MMJTFm5JtOs",
        "outputId": "de56eec8-6db3-434f-f221-91bf6af9dcc6"
      },
      "outputs": [
        {
          "name": "stdout",
          "output_type": "stream",
          "text": [
            "✅ Model and tokenizer saved successfully!\n",
            "Files saved:\n",
            "- sentiment_lstm_model.keras (the trained model)\n",
            "- tokenizer.joblib (text preprocessing)\n",
            "- class_mapping.json (label mapping)\n"
          ]
        }
      ],
      "source": [
        "# Save the trained model and preprocessing components for future use\n",
        "\n",
        "# TODO: Save the trained model and tokenizer\n",
        "lstm_model.save('sentiment_lstm_model.keras')  # Save the neural network\n",
        "dump(tokenizer, 'tokenizer.joblib')  # Save the tokenizer for text preprocessing\n",
        "\n",
        "print(\"✅ Model and tokenizer saved successfully!\")\n",
        "print(\"Files saved:\")\n",
        "print(\"- sentiment_lstm_model.keras (the trained model)\")\n",
        "print(\"- tokenizer.joblib (text preprocessing)\")\n",
        "print(\"- class_mapping.json (label mapping)\")\n",
        "\n",
        "# 💡 Hint: Model files use .keras extension, and tokenizer variable should be saved"
      ]
    },
    {
      "cell_type": "code",
      "execution_count": 42,
      "metadata": {
        "colab": {
          "base_uri": "https://localhost:8080/"
        },
        "id": "-d70yCDaKuAN",
        "outputId": "6129de9c-a772-4d95-9199-6e5a535b8c8f"
      },
      "outputs": [
        {
          "name": "stdout",
          "output_type": "stream",
          "text": [
            "\n",
            "🎉 Congratulations! You've successfully built and trained an LSTM model for sentiment analysis!\n",
            "\n",
            "📊 Summary of what you accomplished:\n",
            "- Processed 27449 tweets\n",
            "- Built vocabulary of 23103 unique words\n",
            "- Achieved 66.78% accuracy on test data\n",
            "- Saved model ready for deployment\n"
          ]
        },
        {
          "name": "stderr",
          "output_type": "stream",
          "text": [
            "'ls' is not recognized as an internal or external command,\n",
            "operable program or batch file.\n"
          ]
        }
      ],
      "source": [
        "# Verify all required files have been created\n",
        "!ls -la *.keras *.joblib *.json\n",
        "\n",
        "print(\"\\n🎉 Congratulations! You've successfully built and trained an LSTM model for sentiment analysis!\")\n",
        "print(\"\\n📊 Summary of what you accomplished:\")\n",
        "print(f\"- Processed {df.shape[0]} tweets\")\n",
        "print(f\"- Built vocabulary of {vocab_size} unique words\")\n",
        "print(f\"- Achieved {acc*100:.2f}% accuracy on test data\")\n",
        "print(f\"- Saved model ready for deployment\")"
      ]
    }
  ],
  "metadata": {
    "accelerator": "GPU",
    "colab": {
      "gpuType": "T4",
      "provenance": []
    },
    "kernelspec": {
      "display_name": "venv",
      "language": "python",
      "name": "python3"
    },
    "language_info": {
      "codemirror_mode": {
        "name": "ipython",
        "version": 3
      },
      "file_extension": ".py",
      "mimetype": "text/x-python",
      "name": "python",
      "nbconvert_exporter": "python",
      "pygments_lexer": "ipython3",
      "version": "3.13.7"
    }
  },
  "nbformat": 4,
  "nbformat_minor": 0
}
