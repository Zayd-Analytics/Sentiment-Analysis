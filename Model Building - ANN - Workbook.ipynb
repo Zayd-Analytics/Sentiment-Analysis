{
 "cells": [
  {
   "cell_type": "markdown",
   "metadata": {
    "colab_type": "text",
    "id": "DmcNFGyW9dAB"
   },
   "source": [
    "<h1 align=\"center\">Twitter Sentiment Analysis - ANN Building: DL</h1>\n",
    "\n",
    "## 🎯 **Learning Objectives**\n",
    "By the end of this workbook, you will understand:\n",
    "- How to prepare text data for deep learning models\n",
    "- Building and training Artificial Neural Networks (ANNs) for text classification\n",
    "- Recognizing and addressing overfitting in neural networks\n",
    "- Using TensorFlow/Keras for sentiment analysis\n",
    "\n",
    "**📚 Key Concepts:** Neural Networks, Text Vectorization, Label Encoding, Model Evaluation"
   ]
  },
  {
   "cell_type": "markdown",
   "metadata": {
    "colab_type": "text",
    "id": "Zw2OdXqR97oQ"
   },
   "source": [
    "## <h2 align = \"center\">Dependencies</h2>\n",
    "\n",
    "**💡 Concept:** We import all necessary libraries at the beginning. Each library serves a specific purpose in our machine learning pipeline."
   ]
  },
  {
   "cell_type": "code",
   "execution_count": 3,
   "metadata": {
    "colab": {
     "base_uri": "https://localhost:8080/",
     "height": 123
    },
    "colab_type": "code",
    "id": "CFDhgYmH9bmc",
    "outputId": "878c5789-a5e6-4510-ba33-6961ab1d9bd1"
   },
   "outputs": [
    {
     "name": "stdout",
     "output_type": "stream",
     "text": [
      "Version:  2.20.0\n",
      "Eager mode:  True\n",
      "GPU is NOT AVAILABLE\n"
     ]
    }
   ],
   "source": [
    "# TODO: Import the necessary libraries for data manipulation and visualization\n",
    "import numpy as np  # For numerical operations\n",
    "import pandas as pd  # For data manipulation\n",
    "import matplotlib.pyplot as plt  # For plotting\n",
    "import seaborn as sns  # For statistical visualization\n",
    "\n",
    "# TODO: Import scikit-learn components for preprocessing and model evaluation\n",
    "from sklearn.preprocessing import LabelEncoder  # Hint: We need to encode text labels to numbers\n",
    "from sklearn.model_selection import train_test_split  # Hint: We need to split our data\n",
    "from sklearn.feature_extraction.text import TfidfVectorizer  # For text vectorization\n",
    "from sklearn.feature_selection import SelectKBest, f_classif  # For feature selection\n",
    "\n",
    "# Deep Learning imports - TensorFlow/Keras\n",
    "import tensorflow as tf\n",
    "from tensorflow.keras.models import Sequential  # For building sequential neural networks\n",
    "from tensorflow.python.keras.callbacks import LambdaCallback, EarlyStopping  # Training callbacks\n",
    "from tensorflow.keras.layers import *  # All layer types (Dense, Dropout, etc.)\n",
    "from tensorflow.keras.preprocessing import text\n",
    "from tensorflow.keras.preprocessing.sequence import pad_sequences\n",
    "\n",
    "# Utility imports\n",
    "import warnings\n",
    "warnings.filterwarnings('ignore')  # Suppress warnings for cleaner output\n",
    "\n",
    "# Display plots inline in Jupyter\n",
    "%matplotlib inline\n",
    "sns.set()  # Set seaborn default styling\n",
    "\n",
    "# Check TensorFlow setup\n",
    "print(\"Version: \", tf.__version__)\n",
    "print(\"Eager mode: \", tf.executing_eagerly())\n",
    "gpus = tf.config.list_physical_devices('GPU')\n",
    "print(\"GPU is\", \"available\" if gpus else \"NOT AVAILABLE\")"
   ]
  },
  {
   "cell_type": "markdown",
   "metadata": {},
   "source": [
    "**🔽 Dropdown Hint for TODO above:**\n",
    "<details>\n",
    "<summary>Click to see the missing imports</summary>\n",
    "\n",
    "```python\n",
    "from sklearn.preprocessing import LabelEncoder\n",
    "from sklearn.model_selection import train_test_split\n",
    "```\n",
    "</details>"
   ]
  },
  {
   "cell_type": "code",
   "execution_count": 4,
   "metadata": {
    "colab": {
     "base_uri": "https://localhost:8080/",
     "height": 34
    },
    "colab_type": "code",
    "id": "7rxVlB-SMbNd",
    "outputId": "63fd2786-1a78-4dda-b1b9-c785be5f8b0e"
   },
   "outputs": [],
   "source": [
    "# 🔧 OPTIONAL/ADVANCED: GPU device detection\n",
    "# This code checks if GPU is available for faster training\n",
    "# You can skip this section if you're running on CPU\n",
    "\n",
    "# device_name = tf.test.gpu_device_name()\n",
    "# if device_name != '/device:GPU:0':\n",
    "#   raise SystemError('GPU device not found')\n",
    "# print('Found GPU at: {}'.format(device_name))"
   ]
  },
  {
   "cell_type": "code",
   "execution_count": 5,
   "metadata": {
    "colab": {
     "base_uri": "https://localhost:8080/",
     "height": 263
    },
    "colab_type": "code",
    "id": "dYAkdt8TF4nF",
    "outputId": "6d4ec9d4-b5e6-4635-caf2-2ad8b2e864c3"
   },
   "outputs": [
    {
     "data": {
      "text/html": [
       "<div>\n",
       "<style scoped>\n",
       "    .dataframe tbody tr th:only-of-type {\n",
       "        vertical-align: middle;\n",
       "    }\n",
       "\n",
       "    .dataframe tbody tr th {\n",
       "        vertical-align: top;\n",
       "    }\n",
       "\n",
       "    .dataframe thead th {\n",
       "        text-align: right;\n",
       "    }\n",
       "</style>\n",
       "<table border=\"1\" class=\"dataframe\">\n",
       "  <thead>\n",
       "    <tr style=\"text-align: right;\">\n",
       "      <th></th>\n",
       "      <th>textID</th>\n",
       "      <th>text</th>\n",
       "      <th>selected_text</th>\n",
       "      <th>sentiment</th>\n",
       "      <th>clean_text</th>\n",
       "    </tr>\n",
       "  </thead>\n",
       "  <tbody>\n",
       "    <tr>\n",
       "      <th>12623</th>\n",
       "      <td>d251997685</td>\n",
       "      <td>Going to get my blood taken</td>\n",
       "      <td>Going to get my blood taken</td>\n",
       "      <td>neutral</td>\n",
       "      <td>going get blood take</td>\n",
       "    </tr>\n",
       "    <tr>\n",
       "      <th>12688</th>\n",
       "      <td>2aff0dfbff</td>\n",
       "      <td>Homey missed da bus.</td>\n",
       "      <td>Homey missed da bus.</td>\n",
       "      <td>neutral</td>\n",
       "      <td>Homey miss da bus</td>\n",
       "    </tr>\n",
       "    <tr>\n",
       "      <th>14943</th>\n",
       "      <td>04aaabac04</td>\n",
       "      <td>speechless</td>\n",
       "      <td>speechless</td>\n",
       "      <td>neutral</td>\n",
       "      <td>speechless</td>\n",
       "    </tr>\n",
       "    <tr>\n",
       "      <th>12538</th>\n",
       "      <td>5dfae5c7cc</td>\n",
       "      <td>man i **** up that test  playing cod now . 31 ...</td>\n",
       "      <td>man i **** up</td>\n",
       "      <td>negative</td>\n",
       "      <td>man test play cod 31 day till summer !</td>\n",
       "    </tr>\n",
       "    <tr>\n",
       "      <th>7699</th>\n",
       "      <td>cf9f488303</td>\n",
       "      <td>o snapppp look who i found on twitter lollll</td>\n",
       "      <td>o snapppp look who i found on twitter lollll</td>\n",
       "      <td>neutral</td>\n",
       "      <td>snapppp look find twitter lollll</td>\n",
       "    </tr>\n",
       "    <tr>\n",
       "      <th>11734</th>\n",
       "      <td>875f821b10</td>\n",
       "      <td>I hope you get well soon! &lt;3</td>\n",
       "      <td>I hope you get well soon! &lt;3</td>\n",
       "      <td>positive</td>\n",
       "      <td>hope get well soon ! 3</td>\n",
       "    </tr>\n",
       "    <tr>\n",
       "      <th>1265</th>\n",
       "      <td>f17e12be38</td>\n",
       "      <td>I don`t think I`ve ever been up this early on ...</td>\n",
       "      <td>I don`t think I`ve ever been up this early on ...</td>\n",
       "      <td>neutral</td>\n",
       "      <td>` think ` ever early Sunday Meanwhile bigweeke...</td>\n",
       "    </tr>\n",
       "  </tbody>\n",
       "</table>\n",
       "</div>"
      ],
      "text/plain": [
       "           textID                                               text  \\\n",
       "12623  d251997685                        Going to get my blood taken   \n",
       "12688  2aff0dfbff                               Homey missed da bus.   \n",
       "14943  04aaabac04                                         speechless   \n",
       "12538  5dfae5c7cc  man i **** up that test  playing cod now . 31 ...   \n",
       "7699   cf9f488303       o snapppp look who i found on twitter lollll   \n",
       "11734  875f821b10                       I hope you get well soon! <3   \n",
       "1265   f17e12be38  I don`t think I`ve ever been up this early on ...   \n",
       "\n",
       "                                           selected_text sentiment  \\\n",
       "12623                        Going to get my blood taken   neutral   \n",
       "12688                               Homey missed da bus.   neutral   \n",
       "14943                                         speechless   neutral   \n",
       "12538                                      man i **** up  negative   \n",
       "7699        o snapppp look who i found on twitter lollll   neutral   \n",
       "11734                       I hope you get well soon! <3  positive   \n",
       "1265   I don`t think I`ve ever been up this early on ...   neutral   \n",
       "\n",
       "                                              clean_text  \n",
       "12623                               going get blood take  \n",
       "12688                                  Homey miss da bus  \n",
       "14943                                         speechless  \n",
       "12538             man test play cod 31 day till summer !  \n",
       "7699                    snapppp look find twitter lollll  \n",
       "11734                             hope get well soon ! 3  \n",
       "1265   ` think ` ever early Sunday Meanwhile bigweeke...  "
      ]
     },
     "execution_count": 5,
     "metadata": {},
     "output_type": "execute_result"
    }
   ],
   "source": [
    "# TODO: Load the cleaned dataset from the EDA (Exploratory Data Analysis) step\n",
    "# The dataset should contain tweets with their sentiment labels\n",
    "\n",
    "df = pd.read_csv('../data/cleaned_tweets.csv')\n",
    "\n",
    "# Display a random sample to understand our data\n",
    "df.sample(7)"
   ]
  },
  {
   "cell_type": "markdown",
   "metadata": {
    "colab_type": "text",
    "id": "IstLZZ5OG3U8"
   },
   "source": [
    "> **📊 Binarize the sentiment column**\n",
    "\n",
    "**💡 Concept:** Neural networks work with numbers, not text. We need to convert sentiment labels (like 'positive', 'negative', 'neutral') into numerical format (0, 1, 2)."
   ]
  },
  {
   "cell_type": "code",
   "execution_count": 6,
   "metadata": {},
   "outputs": [
    {
     "data": {
      "text/plain": [
       "sentiment\n",
       "neutral     11117\n",
       "positive     8582\n",
       "negative     7781\n",
       "Name: count, dtype: int64"
      ]
     },
     "execution_count": 6,
     "metadata": {},
     "output_type": "execute_result"
    }
   ],
   "source": [
    "# First, let's see what sentiment categories we have\n",
    "df.sentiment.value_counts()"
   ]
  },
  {
   "cell_type": "code",
   "execution_count": 7,
   "metadata": {
    "colab": {
     "base_uri": "https://localhost:8080/",
     "height": 263
    },
    "colab_type": "code",
    "id": "fsRxNWaDG2sJ",
    "outputId": "8829dc08-c350-441c-a052-7838acd38e18"
   },
   "outputs": [
    {
     "data": {
      "text/html": [
       "<div>\n",
       "<style scoped>\n",
       "    .dataframe tbody tr th:only-of-type {\n",
       "        vertical-align: middle;\n",
       "    }\n",
       "\n",
       "    .dataframe tbody tr th {\n",
       "        vertical-align: top;\n",
       "    }\n",
       "\n",
       "    .dataframe thead th {\n",
       "        text-align: right;\n",
       "    }\n",
       "</style>\n",
       "<table border=\"1\" class=\"dataframe\">\n",
       "  <thead>\n",
       "    <tr style=\"text-align: right;\">\n",
       "      <th></th>\n",
       "      <th>textID</th>\n",
       "      <th>text</th>\n",
       "      <th>selected_text</th>\n",
       "      <th>sentiment</th>\n",
       "      <th>clean_text</th>\n",
       "    </tr>\n",
       "  </thead>\n",
       "  <tbody>\n",
       "    <tr>\n",
       "      <th>9164</th>\n",
       "      <td>603045ab40</td>\n",
       "      <td>`s mum asked us to thank you for introducing ...</td>\n",
       "      <td>thank</td>\n",
       "      <td>2</td>\n",
       "      <td>` mum ask we thank introduce we Kenny ` ` moth...</td>\n",
       "    </tr>\n",
       "    <tr>\n",
       "      <th>10873</th>\n",
       "      <td>926b9f20f6</td>\n",
       "      <td>first year in ages where i`m not going to the ...</td>\n",
       "      <td>i don`t even like</td>\n",
       "      <td>0</td>\n",
       "      <td>first year age ` go crafty raft ` mind though ...</td>\n",
       "    </tr>\n",
       "    <tr>\n",
       "      <th>2246</th>\n",
       "      <td>c390bbe5c9</td>\n",
       "      <td>The time in Germany went by too fast, only 2 d...</td>\n",
       "      <td>Hopefully I will move here soon</td>\n",
       "      <td>2</td>\n",
       "      <td>time Germany go fast 2 day leave hopefully mov...</td>\n",
       "    </tr>\n",
       "    <tr>\n",
       "      <th>24211</th>\n",
       "      <td>28f02419f9</td>\n",
       "      <td>i hope you feel better</td>\n",
       "      <td>i hope you feel better</td>\n",
       "      <td>2</td>\n",
       "      <td>hope feel well</td>\n",
       "    </tr>\n",
       "    <tr>\n",
       "      <th>16789</th>\n",
       "      <td>b5e3b51d4c</td>\n",
       "      <td>MC, happy mother`s day to your mom ;).. love yah</td>\n",
       "      <td>MC, happy mother`s day to your mom ;).. love yah</td>\n",
       "      <td>2</td>\n",
       "      <td>MC happy mother ` day mom love yah</td>\n",
       "    </tr>\n",
       "    <tr>\n",
       "      <th>1900</th>\n",
       "      <td>01297393b5</td>\n",
       "      <td>oh gaha no of course i wasn`t offended why wo...</td>\n",
       "      <td>d love</td>\n",
       "      <td>2</td>\n",
       "      <td>oh gaha course ` offend would ? ` love play day</td>\n",
       "    </tr>\n",
       "    <tr>\n",
       "      <th>25591</th>\n",
       "      <td>5cd2d151d7</td>\n",
       "      <td>_C I can`t find the original on blip.fm and th...</td>\n",
       "      <td>_C I can`t find the original on blip.fm and th...</td>\n",
       "      <td>0</td>\n",
       "      <td>c ` find original blip fm Ex Models version much</td>\n",
       "    </tr>\n",
       "  </tbody>\n",
       "</table>\n",
       "</div>"
      ],
      "text/plain": [
       "           textID                                               text  \\\n",
       "9164   603045ab40   `s mum asked us to thank you for introducing ...   \n",
       "10873  926b9f20f6  first year in ages where i`m not going to the ...   \n",
       "2246   c390bbe5c9  The time in Germany went by too fast, only 2 d...   \n",
       "24211  28f02419f9                             i hope you feel better   \n",
       "16789  b5e3b51d4c   MC, happy mother`s day to your mom ;).. love yah   \n",
       "1900   01297393b5   oh gaha no of course i wasn`t offended why wo...   \n",
       "25591  5cd2d151d7  _C I can`t find the original on blip.fm and th...   \n",
       "\n",
       "                                           selected_text  sentiment  \\\n",
       "9164                                               thank          2   \n",
       "10873                                  i don`t even like          0   \n",
       "2246                     Hopefully I will move here soon          2   \n",
       "24211                             i hope you feel better          2   \n",
       "16789   MC, happy mother`s day to your mom ;).. love yah          2   \n",
       "1900                                              d love          2   \n",
       "25591  _C I can`t find the original on blip.fm and th...          0   \n",
       "\n",
       "                                              clean_text  \n",
       "9164   ` mum ask we thank introduce we Kenny ` ` moth...  \n",
       "10873  first year age ` go crafty raft ` mind though ...  \n",
       "2246   time Germany go fast 2 day leave hopefully mov...  \n",
       "24211                                     hope feel well  \n",
       "16789                 MC happy mother ` day mom love yah  \n",
       "1900     oh gaha course ` offend would ? ` love play day  \n",
       "25591   c ` find original blip fm Ex Models version much  "
      ]
     },
     "execution_count": 7,
     "metadata": {},
     "output_type": "execute_result"
    }
   ],
   "source": [
    "# TODO: Create a LabelEncoder to convert text labels to numbers\n",
    "le = LabelEncoder()\n",
    "\n",
    "# TODO: Apply label encoding to the sentiment column\n",
    "df['sentiment'] = le.fit_transform(df['sentiment'])\n",
    "df.sample(7)"
   ]
  },
  {
   "cell_type": "markdown",
   "metadata": {},
   "source": [
    "**🔽 Dropdown Hint:**\n",
    "<details>\n",
    "<summary>Click for help with LabelEncoder</summary>\n",
    "\n",
    "```python\n",
    "le = LabelEncoder()\n",
    "df['sentiment'] = le.fit_transform(df['sentiment'])\n",
    "```\n",
    "\n",
    "**Explanation:** \n",
    "- `LabelEncoder()` creates an encoder object\n",
    "- `fit_transform()` learns the mapping and applies it in one step\n",
    "</details>"
   ]
  },
  {
   "cell_type": "code",
   "execution_count": 8,
   "metadata": {},
   "outputs": [
    {
     "data": {
      "text/plain": [
       "sentiment\n",
       "1    11117\n",
       "2     8582\n",
       "0     7781\n",
       "Name: count, dtype: int64"
      ]
     },
     "execution_count": 8,
     "metadata": {},
     "output_type": "execute_result"
    }
   ],
   "source": [
    "# Check the encoded values\n",
    "df.sentiment.value_counts()"
   ]
  },
  {
   "cell_type": "code",
   "execution_count": 9,
   "metadata": {},
   "outputs": [
    {
     "name": "stdout",
     "output_type": "stream",
     "text": [
      "Label mapping: {'negative': 0, 'neutral': 1, 'positive': 2}\n"
     ]
    }
   ],
   "source": [
    "# TODO: Examine the label mapping to understand which number represents which sentiment\n",
    "le.classes_  # Shows the original class names\n",
    "num_classes = len(le.classes_)\n",
    "\n",
    "# Create a mapping dictionary for reference\n",
    "class_mapping = dict(zip(le.classes_, range(num_classes)))\n",
    "print(\"Label mapping:\", class_mapping)"
   ]
  },
  {
   "cell_type": "markdown",
   "metadata": {},
   "source": [
    "> *🔍 Check for missing values*\n",
    "\n",
    "**💡 Concept:** Missing data can cause errors in neural networks. We always check and handle missing values before training."
   ]
  },
  {
   "cell_type": "code",
   "execution_count": 10,
   "metadata": {},
   "outputs": [
    {
     "data": {
      "text/plain": [
       "textID            0\n",
       "text              0\n",
       "selected_text     0\n",
       "sentiment         0\n",
       "clean_text       31\n",
       "dtype: int64"
      ]
     },
     "execution_count": 10,
     "metadata": {},
     "output_type": "execute_result"
    }
   ],
   "source": [
    "# TODO: Check for missing values in our dataset\n",
    "df.isna().sum()  # Hint: Use isna() method"
   ]
  },
  {
   "cell_type": "code",
   "execution_count": 11,
   "metadata": {},
   "outputs": [
    {
     "data": {
      "text/html": [
       "<div>\n",
       "<style scoped>\n",
       "    .dataframe tbody tr th:only-of-type {\n",
       "        vertical-align: middle;\n",
       "    }\n",
       "\n",
       "    .dataframe tbody tr th {\n",
       "        vertical-align: top;\n",
       "    }\n",
       "\n",
       "    .dataframe thead th {\n",
       "        text-align: right;\n",
       "    }\n",
       "</style>\n",
       "<table border=\"1\" class=\"dataframe\">\n",
       "  <thead>\n",
       "    <tr style=\"text-align: right;\">\n",
       "      <th></th>\n",
       "      <th>textID</th>\n",
       "      <th>text</th>\n",
       "      <th>selected_text</th>\n",
       "      <th>sentiment</th>\n",
       "      <th>clean_text</th>\n",
       "    </tr>\n",
       "  </thead>\n",
       "  <tbody>\n",
       "    <tr>\n",
       "      <th>8</th>\n",
       "      <td>e050245fbd</td>\n",
       "      <td>Both of you</td>\n",
       "      <td>Both of you</td>\n",
       "      <td>1</td>\n",
       "      <td>NaN</td>\n",
       "    </tr>\n",
       "    <tr>\n",
       "      <th>640</th>\n",
       "      <td>5210cc55ae</td>\n",
       "      <td>no</td>\n",
       "      <td>no</td>\n",
       "      <td>1</td>\n",
       "      <td>NaN</td>\n",
       "    </tr>\n",
       "    <tr>\n",
       "      <th>1489</th>\n",
       "      <td>07e2fab0da</td>\n",
       "      <td>no its the same</td>\n",
       "      <td>no its the same</td>\n",
       "      <td>1</td>\n",
       "      <td>NaN</td>\n",
       "    </tr>\n",
       "    <tr>\n",
       "      <th>2041</th>\n",
       "      <td>12c89d051d</td>\n",
       "      <td>That was ****.</td>\n",
       "      <td>****.</td>\n",
       "      <td>0</td>\n",
       "      <td>NaN</td>\n",
       "    </tr>\n",
       "    <tr>\n",
       "      <th>3034</th>\n",
       "      <td>d497141ca8</td>\n",
       "      <td>me too</td>\n",
       "      <td>me too</td>\n",
       "      <td>1</td>\n",
       "      <td>NaN</td>\n",
       "    </tr>\n",
       "    <tr>\n",
       "      <th>3613</th>\n",
       "      <td>ec08321ce1</td>\n",
       "      <td>**** EM</td>\n",
       "      <td>**** EM</td>\n",
       "      <td>0</td>\n",
       "      <td>NaN</td>\n",
       "    </tr>\n",
       "    <tr>\n",
       "      <th>3674</th>\n",
       "      <td>f18b9435c8</td>\n",
       "      <td>with</td>\n",
       "      <td>with</td>\n",
       "      <td>1</td>\n",
       "      <td>NaN</td>\n",
       "    </tr>\n",
       "    <tr>\n",
       "      <th>5053</th>\n",
       "      <td>fd13a24d43</td>\n",
       "      <td>it does.</td>\n",
       "      <td>it does.</td>\n",
       "      <td>1</td>\n",
       "      <td>NaN</td>\n",
       "    </tr>\n",
       "    <tr>\n",
       "      <th>5154</th>\n",
       "      <td>3a4ff44f1a</td>\n",
       "      <td>i will do that..</td>\n",
       "      <td>i will do that..</td>\n",
       "      <td>1</td>\n",
       "      <td>NaN</td>\n",
       "    </tr>\n",
       "    <tr>\n",
       "      <th>8119</th>\n",
       "      <td>4a265d8a34</td>\n",
       "      <td>****</td>\n",
       "      <td>****</td>\n",
       "      <td>0</td>\n",
       "      <td>NaN</td>\n",
       "    </tr>\n",
       "    <tr>\n",
       "      <th>8149</th>\n",
       "      <td>5e3b347124</td>\n",
       "      <td>she will</td>\n",
       "      <td>she will</td>\n",
       "      <td>1</td>\n",
       "      <td>NaN</td>\n",
       "    </tr>\n",
       "    <tr>\n",
       "      <th>9940</th>\n",
       "      <td>65985bdb35</td>\n",
       "      <td>no you dont</td>\n",
       "      <td>no you dont</td>\n",
       "      <td>1</td>\n",
       "      <td>NaN</td>\n",
       "    </tr>\n",
       "    <tr>\n",
       "      <th>10677</th>\n",
       "      <td>a482681447</td>\n",
       "      <td>you can do it</td>\n",
       "      <td>you can do it</td>\n",
       "      <td>2</td>\n",
       "      <td>NaN</td>\n",
       "    </tr>\n",
       "    <tr>\n",
       "      <th>11298</th>\n",
       "      <td>415660cb0e</td>\n",
       "      <td>you should.</td>\n",
       "      <td>you should.</td>\n",
       "      <td>1</td>\n",
       "      <td>NaN</td>\n",
       "    </tr>\n",
       "    <tr>\n",
       "      <th>12897</th>\n",
       "      <td>02cfbffb94</td>\n",
       "      <td>i will</td>\n",
       "      <td>i will</td>\n",
       "      <td>1</td>\n",
       "      <td>NaN</td>\n",
       "    </tr>\n",
       "    <tr>\n",
       "      <th>14526</th>\n",
       "      <td>a5ea878610</td>\n",
       "      <td>is over</td>\n",
       "      <td>is over</td>\n",
       "      <td>1</td>\n",
       "      <td>NaN</td>\n",
       "    </tr>\n",
       "    <tr>\n",
       "      <th>15937</th>\n",
       "      <td>03f89d7db1</td>\n",
       "      <td>_m do it up</td>\n",
       "      <td>_m do it up</td>\n",
       "      <td>1</td>\n",
       "      <td>NaN</td>\n",
       "    </tr>\n",
       "    <tr>\n",
       "      <th>15968</th>\n",
       "      <td>64810cb721</td>\n",
       "      <td>not just me then</td>\n",
       "      <td>not just me then</td>\n",
       "      <td>1</td>\n",
       "      <td>NaN</td>\n",
       "    </tr>\n",
       "    <tr>\n",
       "      <th>16072</th>\n",
       "      <td>f5d5719228</td>\n",
       "      <td>So am I.</td>\n",
       "      <td>So am I.</td>\n",
       "      <td>1</td>\n",
       "      <td>NaN</td>\n",
       "    </tr>\n",
       "    <tr>\n",
       "      <th>16473</th>\n",
       "      <td>b100739bc6</td>\n",
       "      <td>not</td>\n",
       "      <td>not</td>\n",
       "      <td>1</td>\n",
       "      <td>NaN</td>\n",
       "    </tr>\n",
       "    <tr>\n",
       "      <th>17273</th>\n",
       "      <td>770ca1632c</td>\n",
       "      <td>should be me</td>\n",
       "      <td>should be me</td>\n",
       "      <td>1</td>\n",
       "      <td>NaN</td>\n",
       "    </tr>\n",
       "    <tr>\n",
       "      <th>18324</th>\n",
       "      <td>4c8908e55c</td>\n",
       "      <td>Not any more.</td>\n",
       "      <td>Not any more.</td>\n",
       "      <td>0</td>\n",
       "      <td>NaN</td>\n",
       "    </tr>\n",
       "    <tr>\n",
       "      <th>18875</th>\n",
       "      <td>fd7975b3fa</td>\n",
       "      <td>same</td>\n",
       "      <td>same</td>\n",
       "      <td>1</td>\n",
       "      <td>NaN</td>\n",
       "    </tr>\n",
       "    <tr>\n",
       "      <th>19622</th>\n",
       "      <td>27dafe2762</td>\n",
       "      <td>On what..</td>\n",
       "      <td>On what..</td>\n",
       "      <td>1</td>\n",
       "      <td>NaN</td>\n",
       "    </tr>\n",
       "    <tr>\n",
       "      <th>22272</th>\n",
       "      <td>3cbe2d6bf7</td>\n",
       "      <td>AGAIN AGAIN.</td>\n",
       "      <td>AGAIN AGAIN.</td>\n",
       "      <td>1</td>\n",
       "      <td>NaN</td>\n",
       "    </tr>\n",
       "    <tr>\n",
       "      <th>22612</th>\n",
       "      <td>e1cf1d725e</td>\n",
       "      <td>Its over for them</td>\n",
       "      <td>Its over for them</td>\n",
       "      <td>1</td>\n",
       "      <td>NaN</td>\n",
       "    </tr>\n",
       "    <tr>\n",
       "      <th>22748</th>\n",
       "      <td>279fd69360</td>\n",
       "      <td>I did that once</td>\n",
       "      <td>I did that once</td>\n",
       "      <td>1</td>\n",
       "      <td>NaN</td>\n",
       "    </tr>\n",
       "    <tr>\n",
       "      <th>24190</th>\n",
       "      <td>539d37b36b</td>\n",
       "      <td>they did,</td>\n",
       "      <td>they did,</td>\n",
       "      <td>1</td>\n",
       "      <td>NaN</td>\n",
       "    </tr>\n",
       "    <tr>\n",
       "      <th>25698</th>\n",
       "      <td>ee8ee67cb3</td>\n",
       "      <td>ME</td>\n",
       "      <td>ME</td>\n",
       "      <td>1</td>\n",
       "      <td>NaN</td>\n",
       "    </tr>\n",
       "    <tr>\n",
       "      <th>25961</th>\n",
       "      <td>7909e8e63b</td>\n",
       "      <td>At The Only with  and , but not with .</td>\n",
       "      <td>At The Only with  and , but not with .</td>\n",
       "      <td>1</td>\n",
       "      <td>NaN</td>\n",
       "    </tr>\n",
       "    <tr>\n",
       "      <th>26938</th>\n",
       "      <td>a33cec15dd</td>\n",
       "      <td>I did</td>\n",
       "      <td>I did</td>\n",
       "      <td>1</td>\n",
       "      <td>NaN</td>\n",
       "    </tr>\n",
       "  </tbody>\n",
       "</table>\n",
       "</div>"
      ],
      "text/plain": [
       "           textID                                    text  \\\n",
       "8      e050245fbd                             Both of you   \n",
       "640    5210cc55ae                                      no   \n",
       "1489   07e2fab0da                         no its the same   \n",
       "2041   12c89d051d                          That was ****.   \n",
       "3034   d497141ca8                                  me too   \n",
       "3613   ec08321ce1                                 **** EM   \n",
       "3674   f18b9435c8                                   with    \n",
       "5053   fd13a24d43                                it does.   \n",
       "5154   3a4ff44f1a                        i will do that..   \n",
       "8119   4a265d8a34                                    ****   \n",
       "8149   5e3b347124                                she will   \n",
       "9940   65985bdb35                             no you dont   \n",
       "10677  a482681447                           you can do it   \n",
       "11298  415660cb0e                             you should.   \n",
       "12897  02cfbffb94                                  i will   \n",
       "14526  a5ea878610                                 is over   \n",
       "15937  03f89d7db1                             _m do it up   \n",
       "15968  64810cb721                        not just me then   \n",
       "16072  f5d5719228                                So am I.   \n",
       "16473  b100739bc6                                     not   \n",
       "17273  770ca1632c                            should be me   \n",
       "18324  4c8908e55c                           Not any more.   \n",
       "18875  fd7975b3fa                                    same   \n",
       "19622  27dafe2762                               On what..   \n",
       "22272  3cbe2d6bf7                            AGAIN AGAIN.   \n",
       "22612  e1cf1d725e                       Its over for them   \n",
       "22748  279fd69360                         I did that once   \n",
       "24190  539d37b36b                               they did,   \n",
       "25698  ee8ee67cb3                                      ME   \n",
       "25961  7909e8e63b  At The Only with  and , but not with .   \n",
       "26938  a33cec15dd                                   I did   \n",
       "\n",
       "                                selected_text  sentiment clean_text  \n",
       "8                                 Both of you          1        NaN  \n",
       "640                                        no          1        NaN  \n",
       "1489                          no its the same          1        NaN  \n",
       "2041                                    ****.          0        NaN  \n",
       "3034                                   me too          1        NaN  \n",
       "3613                                  **** EM          0        NaN  \n",
       "3674                                     with          1        NaN  \n",
       "5053                                 it does.          1        NaN  \n",
       "5154                         i will do that..          1        NaN  \n",
       "8119                                     ****          0        NaN  \n",
       "8149                                 she will          1        NaN  \n",
       "9940                              no you dont          1        NaN  \n",
       "10677                           you can do it          2        NaN  \n",
       "11298                             you should.          1        NaN  \n",
       "12897                                  i will          1        NaN  \n",
       "14526                                 is over          1        NaN  \n",
       "15937                             _m do it up          1        NaN  \n",
       "15968                        not just me then          1        NaN  \n",
       "16072                                So am I.          1        NaN  \n",
       "16473                                     not          1        NaN  \n",
       "17273                            should be me          1        NaN  \n",
       "18324                           Not any more.          0        NaN  \n",
       "18875                                    same          1        NaN  \n",
       "19622                               On what..          1        NaN  \n",
       "22272                            AGAIN AGAIN.          1        NaN  \n",
       "22612                       Its over for them          1        NaN  \n",
       "22748                         I did that once          1        NaN  \n",
       "24190                               they did,          1        NaN  \n",
       "25698                                      ME          1        NaN  \n",
       "25961  At The Only with  and , but not with .          1        NaN  \n",
       "26938                                   I did          1        NaN  "
      ]
     },
     "execution_count": 11,
     "metadata": {},
     "output_type": "execute_result"
    }
   ],
   "source": [
    "# TODO: Examine rows with missing values\n",
    "df[df.isnull().any(axis=1)]"
   ]
  },
  {
   "cell_type": "markdown",
   "metadata": {},
   "source": [
    "> **Analysis:** These appear to be tweets that became empty after text cleaning (likely contained only stop words)"
   ]
  },
  {
   "cell_type": "code",
   "execution_count": 12,
   "metadata": {},
   "outputs": [
    {
     "name": "stdout",
     "output_type": "stream",
     "text": [
      "Dataset shape after removing missing values: (27449, 5)\n"
     ]
    }
   ],
   "source": [
    "# TODO: Remove rows with missing values (since they're few in number)\n",
    "df.dropna(axis=0, inplace=True)  # Hint: Use dropna() method\n",
    "\n",
    "# Check the new shape\n",
    "print(f\"Dataset shape after removing missing values: {df.shape}\")"
   ]
  },
  {
   "cell_type": "markdown",
   "metadata": {
    "colab_type": "text",
    "id": "BSby0Ik2IGxT"
   },
   "source": [
    " > **🔤 Vectorize the reviews text**\n",
    " \n",
    "**💡 Concept:** Neural networks can't process raw text. We need to convert text into numerical vectors using techniques like TF-IDF (Term Frequency-Inverse Document Frequency).\n",
    "\n",
    "**🔧 OPTIONAL/ADVANCED SECTION:** The following function uses advanced NLP preprocessing. Focus on understanding the concept rather than memorizing the code."
   ]
  },
  {
   "cell_type": "code",
   "execution_count": 13,
   "metadata": {
    "colab": {
     "base_uri": "https://localhost:8080/",
     "height": 34
    },
    "colab_type": "code",
    "id": "_zYXdJ8N90wx",
    "outputId": "1401d0f9-cf0a-4dd8-c490-f6dd3ef9874e"
   },
   "outputs": [
    {
     "name": "stdout",
     "output_type": "stream",
     "text": [
      "Features: 146344 -> 20000\n",
      "Final vectorized shape: (27449, 20000)\n"
     ]
    }
   ],
   "source": [
    "# 🔧 ADVANCED: Text Vectorization Parameters\n",
    "NGRAM_RANGE = (1, 2)  # Use both single words and word pairs\n",
    "TOP_K = 20000  # Keep only top 20,000 most important features\n",
    "TOKEN_MODE = 'word'  # Work with words (not characters)\n",
    "MIN_DOC_FREQ = 1  # Minimum times a word must appear\n",
    "\n",
    "def ngram_vectorize(texts, labels):\n",
    "    \"\"\"Convert text data into numerical vectors using TF-IDF\"\"\"\n",
    "    \n",
    "    # TF-IDF Vectorizer configuration\n",
    "    kwargs = {\n",
    "        'ngram_range' : NGRAM_RANGE,  # Consider 1-grams and 2-grams\n",
    "        'dtype' : 'int32',  # Data type for efficiency\n",
    "        'strip_accents' : 'unicode',  # Remove accents\n",
    "        'decode_error' : 'replace',  # Handle encoding errors\n",
    "        'analyzer' : TOKEN_MODE,  # Word-level analysis\n",
    "        'min_df' : MIN_DOC_FREQ  # Minimum document frequency\n",
    "    }\n",
    "\n",
    "    # Apply TF-IDF transformation\n",
    "    transformed_texts = TfidfVectorizer(**kwargs).fit_transform(texts)\n",
    "\n",
    "    # Select best features using statistical tests\n",
    "    selector = SelectKBest(f_classif, k=min(TOP_K, transformed_texts.shape[1]))\n",
    "    print(f\"Features: {transformed_texts.shape[1]} -> {min(TOP_K, transformed_texts.shape[1])}\")\n",
    "\n",
    "    selector.fit(transformed_texts, labels)\n",
    "    transformed_texts = selector.transform(transformed_texts).astype('float32')\n",
    "    return transformed_texts\n",
    "\n",
    "# Apply vectorization to our text data\n",
    "vect_reviews = ngram_vectorize(df['clean_text'], df['sentiment'])\n",
    "print(f\"Final vectorized shape: {vect_reviews.shape}\")"
   ]
  },
  {
   "cell_type": "markdown",
   "metadata": {
    "colab_type": "text",
    "id": "zpRD5_kdIMW3"
   },
   "source": [
    "> **🔀 Split the data**\n",
    "\n",
    "**💡 Concept:** We split our data into training and testing sets. The model learns from training data and we evaluate performance on unseen testing data."
   ]
  },
  {
   "cell_type": "code",
   "execution_count": 14,
   "metadata": {},
   "outputs": [
    {
     "name": "stdout",
     "output_type": "stream",
     "text": [
      "Vectorized data type: <class 'scipy.sparse._csr.csr_matrix'>\n",
      "Dataset info:\n",
      "<class 'pandas.core.frame.DataFrame'>\n",
      "Index: 27449 entries, 0 to 27479\n",
      "Data columns (total 5 columns):\n",
      " #   Column         Non-Null Count  Dtype \n",
      "---  ------         --------------  ----- \n",
      " 0   textID         27449 non-null  object\n",
      " 1   text           27449 non-null  object\n",
      " 2   selected_text  27449 non-null  object\n",
      " 3   sentiment      27449 non-null  int64 \n",
      " 4   clean_text     27449 non-null  object\n",
      "dtypes: int64(1), object(4)\n",
      "memory usage: 1.3+ MB\n"
     ]
    }
   ],
   "source": [
    "# Check the data types we're working with\n",
    "print(f\"Vectorized data type: {type(vect_reviews)}\")\n",
    "print(f\"Dataset info:\")\n",
    "df.info()"
   ]
  },
  {
   "cell_type": "code",
   "execution_count": 15,
   "metadata": {},
   "outputs": [
    {
     "data": {
      "text/plain": [
       "sentiment\n",
       "1    11091\n",
       "2     8581\n",
       "0     7777\n",
       "Name: count, dtype: int64"
      ]
     },
     "execution_count": 15,
     "metadata": {},
     "output_type": "execute_result"
    }
   ],
   "source": [
    "# Check class distribution\n",
    "df.sentiment.value_counts()"
   ]
  },
  {
   "cell_type": "code",
   "execution_count": 16,
   "metadata": {
    "colab": {
     "base_uri": "https://localhost:8080/",
     "height": 52
    },
    "colab_type": "code",
    "id": "awjc0YmM90-W",
    "outputId": "9e452aeb-4e1f-4a46-87e3-e44cf9bc1d6b"
   },
   "outputs": [
    {
     "name": "stdout",
     "output_type": "stream",
     "text": [
      "Train dataset shape: (21959, 20000)\n",
      "Test dataset shape: (5490, 20000)\n"
     ]
    }
   ],
   "source": [
    "# TODO: Prepare features (X) and target variable (y)\n",
    "X = vect_reviews.toarray()  # Convert sparse matrix to dense array\n",
    "y = (np.array(df['sentiment']))  # Target labels\n",
    "\n",
    "# TODO: Split the data into training and testing sets\n",
    "X_train, X_test, y_train, y_test = train_test_split(\n",
    "    X, y, \n",
    "    test_size=0.2,  # What percentage should we use for testing? (Hint: 0.2 = 20%)\n",
    "    random_state=7   # For reproducible results\n",
    ")\n",
    "\n",
    "print(f\"Train dataset shape: {X_train.shape}\")\n",
    "print(f\"Test dataset shape: {X_test.shape}\")"
   ]
  },
  {
   "cell_type": "markdown",
   "metadata": {},
   "source": [
    "**🔽 Dropdown Hint:**\n",
    "<details>\n",
    "<summary>Click for help with train_test_split</summary>\n",
    "\n",
    "```python\n",
    "X_train, X_test, y_train, y_test = train_test_split(\n",
    "    X, y, \n",
    "    test_size=0.2,  # 20% for testing, 80% for training\n",
    "    random_state=7\n",
    ")\n",
    "```\n",
    "</details>"
   ]
  },
  {
   "cell_type": "code",
   "execution_count": 17,
   "metadata": {},
   "outputs": [
    {
     "name": "stdout",
     "output_type": "stream",
     "text": [
      "X type: <class 'numpy.ndarray'>, y type: <class 'numpy.ndarray'>\n",
      "Sample X shape: (20000,)\n",
      "Sample y value: 1\n"
     ]
    }
   ],
   "source": [
    "# Verify our data types and examine a sample\n",
    "print(f\"X type: {type(X)}, y type: {type(y)}\")\n",
    "print(f\"Sample X shape: {X[0].shape}\")\n",
    "print(f\"Sample y value: {y[0]}\")"
   ]
  },
  {
   "cell_type": "markdown",
   "metadata": {
    "colab_type": "text",
    "id": "ER6jEWJ0I4Te"
   },
   "source": [
    "## <h2 align = \"center\">🧠 Modeling the data</h2>\n",
    "\n",
    "**💡 Concept:** Now we'll build an Artificial Neural Network (ANN) for sentiment classification. ANNs learn patterns by adjusting weights through multiple layers of neurons."
   ]
  },
  {
   "cell_type": "code",
   "execution_count": 18,
   "metadata": {},
   "outputs": [],
   "source": [
    "# TODO: Complete this helper function for plotting learning curves\n",
    "def plot_learning_curve(hist):\n",
    "    \"\"\"Plot training and validation accuracy over epochs\"\"\"\n",
    "    \n",
    "    plt.figure(figsize=(5, 4))\n",
    "    \n",
    "    # Extract accuracy values from training history\n",
    "    train = hist.history['accuracy']  # Hint: What metric did we use? \n",
    "    val = hist.history['val_accuracy']    # Hint: Validation version of the same metric\n",
    "    \n",
    "    epochs_run = range(1, len(train) + 1)\n",
    "    \n",
    "    # Create DataFrames for easy plotting\n",
    "    train_temp = pd.DataFrame({\"Epochs\": epochs_run, \"Training Accuracy\": train})\n",
    "    val_temp = pd.DataFrame({\"Epochs\": epochs_run, \"Validation Accuracy\": val})\n",
    "    \n",
    "    # Plot both lines\n",
    "    sns.lineplot(data=train_temp, x='Epochs', y='Training Accuracy', \n",
    "                marker='o', color='coral', label='Training Accuracy')\n",
    "    sns.lineplot(data=val_temp, x='Epochs', y='Validation Accuracy', \n",
    "                marker='>', color='green', label='Validation Accuracy')\n",
    "    \n",
    "    plt.title(\"Accuracies vs. Epochs\", fontsize=20)\n",
    "    plt.ylim(0, 1)\n",
    "    plt.legend()\n",
    "    plt.show()"
   ]
  },
  {
   "cell_type": "markdown",
   "metadata": {},
   "source": [
    "**🔽 Dropdown Hint:**\n",
    "<details>\n",
    "<summary>Click for help with accuracy keys</summary>\n",
    "\n",
    "```python\n",
    "train = hist.history['accuracy']\n",
    "val = hist.history['val_accuracy']\n",
    "```\n",
    "</details>"
   ]
  },
  {
   "cell_type": "code",
   "execution_count": 19,
   "metadata": {},
   "outputs": [
    {
     "name": "stdout",
     "output_type": "stream",
     "text": [
      "Input shape for neural network: (20000,)\n",
      "Number of features: 20000\n"
     ]
    }
   ],
   "source": [
    "# Determine input shape for our neural network\n",
    "input_shape = X_train.shape[1:]  # Shape without the batch dimension\n",
    "print(f\"Input shape for neural network: {input_shape}\")\n",
    "print(f\"Number of features: {input_shape[0]}\")"
   ]
  },
  {
   "cell_type": "code",
   "execution_count": 20,
   "metadata": {},
   "outputs": [
    {
     "name": "stdout",
     "output_type": "stream",
     "text": [
      "y_train shape: (21959,)\n",
      "y_test shape: (5490,)\n",
      "Number of classes: 3\n"
     ]
    }
   ],
   "source": [
    "# Verify our target shapes\n",
    "print(f\"y_train shape: {y_train.shape}\")\n",
    "print(f\"y_test shape: {y_test.shape}\")\n",
    "print(f\"Number of classes: {len(np.unique(y_train))}\")"
   ]
  },
  {
   "cell_type": "code",
   "execution_count": 21,
   "metadata": {
    "colab": {
     "base_uri": "https://localhost:8080/",
     "height": 229
    },
    "colab_type": "code",
    "id": "7bLEaoSw91Xl",
    "outputId": "24b0393a-bfd5-43de-8d51-008b4081352e"
   },
   "outputs": [
    {
     "data": {
      "text/html": [
       "<pre style=\"white-space:pre;overflow-x:auto;line-height:normal;font-family:Menlo,'DejaVu Sans Mono',consolas,'Courier New',monospace\"><span style=\"font-weight: bold\">Model: \"sequential\"</span>\n",
       "</pre>\n"
      ],
      "text/plain": [
       "\u001b[1mModel: \"sequential\"\u001b[0m\n"
      ]
     },
     "metadata": {},
     "output_type": "display_data"
    },
    {
     "data": {
      "text/html": [
       "<pre style=\"white-space:pre;overflow-x:auto;line-height:normal;font-family:Menlo,'DejaVu Sans Mono',consolas,'Courier New',monospace\">┏━━━━━━━━━━━━━━━━━━━━━━━━━━━━━━━━━┳━━━━━━━━━━━━━━━━━━━━━━━━┳━━━━━━━━━━━━━━━┓\n",
       "┃<span style=\"font-weight: bold\"> Layer (type)                    </span>┃<span style=\"font-weight: bold\"> Output Shape           </span>┃<span style=\"font-weight: bold\">       Param # </span>┃\n",
       "┡━━━━━━━━━━━━━━━━━━━━━━━━━━━━━━━━━╇━━━━━━━━━━━━━━━━━━━━━━━━╇━━━━━━━━━━━━━━━┩\n",
       "│ dense (<span style=\"color: #0087ff; text-decoration-color: #0087ff\">Dense</span>)                   │ (<span style=\"color: #00d7ff; text-decoration-color: #00d7ff\">None</span>, <span style=\"color: #00af00; text-decoration-color: #00af00\">64</span>)             │     <span style=\"color: #00af00; text-decoration-color: #00af00\">1,280,064</span> │\n",
       "├─────────────────────────────────┼────────────────────────┼───────────────┤\n",
       "│ dropout (<span style=\"color: #0087ff; text-decoration-color: #0087ff\">Dropout</span>)               │ (<span style=\"color: #00d7ff; text-decoration-color: #00d7ff\">None</span>, <span style=\"color: #00af00; text-decoration-color: #00af00\">64</span>)             │             <span style=\"color: #00af00; text-decoration-color: #00af00\">0</span> │\n",
       "├─────────────────────────────────┼────────────────────────┼───────────────┤\n",
       "│ dense_1 (<span style=\"color: #0087ff; text-decoration-color: #0087ff\">Dense</span>)                 │ (<span style=\"color: #00d7ff; text-decoration-color: #00d7ff\">None</span>, <span style=\"color: #00af00; text-decoration-color: #00af00\">3</span>)              │           <span style=\"color: #00af00; text-decoration-color: #00af00\">195</span> │\n",
       "└─────────────────────────────────┴────────────────────────┴───────────────┘\n",
       "</pre>\n"
      ],
      "text/plain": [
       "┏━━━━━━━━━━━━━━━━━━━━━━━━━━━━━━━━━┳━━━━━━━━━━━━━━━━━━━━━━━━┳━━━━━━━━━━━━━━━┓\n",
       "┃\u001b[1m \u001b[0m\u001b[1mLayer (type)                   \u001b[0m\u001b[1m \u001b[0m┃\u001b[1m \u001b[0m\u001b[1mOutput Shape          \u001b[0m\u001b[1m \u001b[0m┃\u001b[1m \u001b[0m\u001b[1m      Param #\u001b[0m\u001b[1m \u001b[0m┃\n",
       "┡━━━━━━━━━━━━━━━━━━━━━━━━━━━━━━━━━╇━━━━━━━━━━━━━━━━━━━━━━━━╇━━━━━━━━━━━━━━━┩\n",
       "│ dense (\u001b[38;5;33mDense\u001b[0m)                   │ (\u001b[38;5;45mNone\u001b[0m, \u001b[38;5;34m64\u001b[0m)             │     \u001b[38;5;34m1,280,064\u001b[0m │\n",
       "├─────────────────────────────────┼────────────────────────┼───────────────┤\n",
       "│ dropout (\u001b[38;5;33mDropout\u001b[0m)               │ (\u001b[38;5;45mNone\u001b[0m, \u001b[38;5;34m64\u001b[0m)             │             \u001b[38;5;34m0\u001b[0m │\n",
       "├─────────────────────────────────┼────────────────────────┼───────────────┤\n",
       "│ dense_1 (\u001b[38;5;33mDense\u001b[0m)                 │ (\u001b[38;5;45mNone\u001b[0m, \u001b[38;5;34m3\u001b[0m)              │           \u001b[38;5;34m195\u001b[0m │\n",
       "└─────────────────────────────────┴────────────────────────┴───────────────┘\n"
      ]
     },
     "metadata": {},
     "output_type": "display_data"
    },
    {
     "data": {
      "text/html": [
       "<pre style=\"white-space:pre;overflow-x:auto;line-height:normal;font-family:Menlo,'DejaVu Sans Mono',consolas,'Courier New',monospace\"><span style=\"font-weight: bold\"> Total params: </span><span style=\"color: #00af00; text-decoration-color: #00af00\">1,280,259</span> (4.88 MB)\n",
       "</pre>\n"
      ],
      "text/plain": [
       "\u001b[1m Total params: \u001b[0m\u001b[38;5;34m1,280,259\u001b[0m (4.88 MB)\n"
      ]
     },
     "metadata": {},
     "output_type": "display_data"
    },
    {
     "data": {
      "text/html": [
       "<pre style=\"white-space:pre;overflow-x:auto;line-height:normal;font-family:Menlo,'DejaVu Sans Mono',consolas,'Courier New',monospace\"><span style=\"font-weight: bold\"> Trainable params: </span><span style=\"color: #00af00; text-decoration-color: #00af00\">1,280,259</span> (4.88 MB)\n",
       "</pre>\n"
      ],
      "text/plain": [
       "\u001b[1m Trainable params: \u001b[0m\u001b[38;5;34m1,280,259\u001b[0m (4.88 MB)\n"
      ]
     },
     "metadata": {},
     "output_type": "display_data"
    },
    {
     "data": {
      "text/html": [
       "<pre style=\"white-space:pre;overflow-x:auto;line-height:normal;font-family:Menlo,'DejaVu Sans Mono',consolas,'Courier New',monospace\"><span style=\"font-weight: bold\"> Non-trainable params: </span><span style=\"color: #00af00; text-decoration-color: #00af00\">0</span> (0.00 B)\n",
       "</pre>\n"
      ],
      "text/plain": [
       "\u001b[1m Non-trainable params: \u001b[0m\u001b[38;5;34m0\u001b[0m (0.00 B)\n"
      ]
     },
     "metadata": {},
     "output_type": "display_data"
    }
   ],
   "source": [
    "# TODO: Build a Neural Network Architecture\n",
    "ann_model = Sequential([    \n",
    "    # Input layer: Takes our vectorized text features\n",
    "    Dense(64, activation='relu', input_shape=input_shape),  # How many neurons? (Hint: Try 64)\n",
    "    \n",
    "    # TODO: Add dropout to prevent overfitting\n",
    "    Dropout(0.4),  # What dropout rate? (Hint: 0.4 means drop 40% of neurons randomly)\n",
    "    \n",
    "    # Output layer: Predicts sentiment classes\n",
    "    Dense(3, activation='softmax')  # How many output neurons? (Hint: Number of sentiment classes)\n",
    "])\n",
    "\n",
    "# TODO: Compile the model with appropriate settings\n",
    "ann_model.compile(\n",
    "    loss='sparse_categorical_crossentropy',  # Loss function for multi-class classification with integer labels\n",
    "    optimizer='adam',  # Popular optimizer (Hint: 'adam' is widely used)\n",
    "    metrics=['accuracy']  # What do we want to monitor? (Hint: 'accuracy')\n",
    ")\n",
    "\n",
    "# Display model architecture\n",
    "ann_model.summary()"
   ]
  },
  {
   "cell_type": "markdown",
   "metadata": {},
   "source": [
    "**🔽 Dropdown Hint:**\n",
    "<details>\n",
    "<summary>Click for help with model architecture</summary>\n",
    "\n",
    "```python\n",
    "ann_model = Sequential([    \n",
    "    Dense(64, activation='relu', input_shape=input_shape),\n",
    "    Dropout(0.4),\n",
    "    Dense(3, activation='softmax')  # 3 sentiment classes\n",
    "])\n",
    "\n",
    "ann_model.compile(\n",
    "    loss='sparse_categorical_crossentropy',\n",
    "    optimizer='adam',\n",
    "    metrics=['accuracy']\n",
    ")\n",
    "```\n",
    "\n",
    "**Key Concepts:**\n",
    "- `Dense(64)`: Fully connected layer with 64 neurons\n",
    "- `relu`: Activation function (Rectified Linear Unit)\n",
    "- `Dropout(0.4)`: Randomly drops 40% of neurons during training to prevent overfitting\n",
    "- `softmax`: Output activation for multi-class classification\n",
    "- `sparse_categorical_crossentropy`: Loss function for integer labels\n",
    "</details>"
   ]
  },
  {
   "cell_type": "markdown",
   "metadata": {},
   "source": [
    "**📚 Understanding Loss Functions:**\n",
    "\n",
    "`sparse_categorical_crossentropy` vs `categorical_crossentropy`:\n",
    "\n",
    "| Feature | categorical_crossentropy | sparse_categorical_crossentropy |\n",
    "|---------|-------------------------|--------------------------------|\n",
    "| Label Format | One-hot encoded vectors | Integer class indices |\n",
    "| Memory Efficiency | Less efficient for many classes | More efficient |\n",
    "| Example | [0, 1, 0] for class 1 | Just 1 for class 1 |\n",
    "\n",
    "We use `sparse_categorical_crossentropy` because our labels are integers (0, 1, 2) rather than one-hot encoded vectors."
   ]
  },
  {
   "cell_type": "code",
   "execution_count": 22,
   "metadata": {
    "colab": {
     "base_uri": "https://localhost:8080/",
     "height": 1000
    },
    "colab_type": "code",
    "id": "9L2C8tbQ91V5",
    "outputId": "a90a2aac-fab3-45a1-e0fa-9756841fefa4"
   },
   "outputs": [
    {
     "name": "stdout",
     "output_type": "stream",
     "text": [
      "Epoch 1/20\n",
      "\u001b[1m549/549\u001b[0m \u001b[32m━━━━━━━━━━━━━━━━━━━━\u001b[0m\u001b[37m\u001b[0m \u001b[1m6s\u001b[0m 9ms/step - accuracy: 0.5793 - loss: 0.9305 - val_accuracy: 0.6860 - val_loss: 0.7724\n",
      "Epoch 2/20\n",
      "\u001b[1m549/549\u001b[0m \u001b[32m━━━━━━━━━━━━━━━━━━━━\u001b[0m\u001b[37m\u001b[0m \u001b[1m5s\u001b[0m 9ms/step - accuracy: 0.7509 - loss: 0.6541 - val_accuracy: 0.7193 - val_loss: 0.6815\n",
      "Epoch 3/20\n",
      "\u001b[1m549/549\u001b[0m \u001b[32m━━━━━━━━━━━━━━━━━━━━\u001b[0m\u001b[37m\u001b[0m \u001b[1m5s\u001b[0m 9ms/step - accuracy: 0.8112 - loss: 0.5158 - val_accuracy: 0.7318 - val_loss: 0.6603\n",
      "Epoch 4/20\n",
      "\u001b[1m549/549\u001b[0m \u001b[32m━━━━━━━━━━━━━━━━━━━━\u001b[0m\u001b[37m\u001b[0m \u001b[1m5s\u001b[0m 9ms/step - accuracy: 0.8443 - loss: 0.4338 - val_accuracy: 0.7306 - val_loss: 0.6683\n",
      "Epoch 5/20\n",
      "\u001b[1m549/549\u001b[0m \u001b[32m━━━━━━━━━━━━━━━━━━━━\u001b[0m\u001b[37m\u001b[0m \u001b[1m5s\u001b[0m 9ms/step - accuracy: 0.8667 - loss: 0.3794 - val_accuracy: 0.7345 - val_loss: 0.6694\n",
      "Epoch 6/20\n",
      "\u001b[1m549/549\u001b[0m \u001b[32m━━━━━━━━━━━━━━━━━━━━\u001b[0m\u001b[37m\u001b[0m \u001b[1m5s\u001b[0m 9ms/step - accuracy: 0.8845 - loss: 0.3367 - val_accuracy: 0.7363 - val_loss: 0.6824\n",
      "\n",
      "🎉 Training Complete!\n"
     ]
    }
   ],
   "source": [
    "# TODO: Set training parameters\n",
    "epochs = 20  # How many complete passes through the data? (Hint: Try 20)\n",
    "\n",
    "# Early Stopping: Prevents overfitting by stopping when validation performance stops improving\n",
    "early_stop = EarlyStopping(\n",
    "    monitor='val_loss',  # Watch validation loss\n",
    "    min_delta=0,  # Minimum change to qualify as improvement\n",
    "    patience=3,  # How many epochs to wait? (Hint: Try 2-3)\n",
    "    restore_best_weights=True  # Keep the best weights when stopping\n",
    ")\n",
    "\n",
    "# TODO: Train the model\n",
    "h = ann_model.fit(\n",
    "    X_train, y_train,  # Training data (features, labels)\n",
    "    validation_split = 0.2,  # What percentage for validation? (Hint: 0.2 = 20%)\n",
    "    epochs = epochs,  # Use the epochs variable we defined\n",
    "    callbacks = [early_stop]  # Apply early stopping\n",
    ")\n",
    "\n",
    "print(\"\\n🎉 Training Complete!\")"
   ]
  },
  {
   "cell_type": "markdown",
   "metadata": {},
   "source": [
    "**🔽 Dropdown Hint:**\n",
    "<details>\n",
    "<summary>Click for help with training</summary>\n",
    "\n",
    "```python\n",
    "epochs = 20\n",
    "\n",
    "early_stop = EarlyStopping(\n",
    "    monitor='val_loss',\n",
    "    min_delta=0,\n",
    "    patience=2,\n",
    "    restore_best_weights=True\n",
    ")\n",
    "\n",
    "h = ann_model.fit(\n",
    "    X_train, y_train,\n",
    "    validation_split=0.2,\n",
    "    epochs=epochs,\n",
    "    callbacks=[early_stop]\n",
    ")\n",
    "```\n",
    "</details>"
   ]
  },
  {
   "cell_type": "code",
   "execution_count": 23,
   "metadata": {},
   "outputs": [
    {
     "name": "stdout",
     "output_type": "stream",
     "text": [
      "Available metrics in training history:\n",
      "- accuracy\n",
      "- loss\n",
      "- val_accuracy\n",
      "- val_loss\n"
     ]
    }
   ],
   "source": [
    "# Examine training history\n",
    "print(\"Available metrics in training history:\")\n",
    "for key in h.history.keys():\n",
    "    print(f\"- {key}\")"
   ]
  },
  {
   "cell_type": "code",
   "execution_count": 24,
   "metadata": {
    "colab": {
     "base_uri": "https://localhost:8080/",
     "height": 205
    },
    "colab_type": "code",
    "id": "CRZ12LUt91Rp",
    "outputId": "bd2f33b3-3679-4f08-c6eb-9092cbf4aa9a"
   },
   "outputs": [
    {
     "data": {
      "image/png": "[encoded data removed]",
      "text/plain": [
       "<Figure size 500x400 with 1 Axes>"
      ]
     },
     "metadata": {},
     "output_type": "display_data"
    }
   ],
   "source": [
    "# TODO: Plot the learning curves to visualize training progress\n",
    "plot_learning_curve(h)"
   ]
  },
  {
   "cell_type": "markdown",
   "metadata": {
    "colab_type": "text",
    "id": "dhAFmV-lSRnI"
   },
   "source": [
    "> **🚨 Analysis: The ANN shows clear overfitting!**\n",
    "\n",
    "**💡 Concept - Overfitting:** \n",
    "- **Training accuracy** keeps improving\n",
    "- **Validation accuracy** plateaus or decreases\n",
    "- The model memorizes training data instead of learning general patterns\n",
    "\n",
    "**🔧 Solutions for overfitting:**\n",
    "- Increase dropout rate\n",
    "- Add more regularization\n",
    "- Reduce model complexity\n",
    "- Get more training data\n",
    "- Use early stopping (which we already implemented)"
   ]
  },
  {
   "cell_type": "code",
   "execution_count": 25,
   "metadata": {
    "colab": {
     "base_uri": "https://localhost:8080/",
     "height": 52
    },
    "colab_type": "code",
    "id": "RyBP5TaR91Pt",
    "outputId": "62b39ff9-4908-4858-a39c-c7843bffcb87"
   },
   "outputs": [
    {
     "name": "stdout",
     "output_type": "stream",
     "text": [
      "\u001b[1m172/172\u001b[0m \u001b[32m━━━━━━━━━━━━━━━━━━━━\u001b[0m\u001b[37m\u001b[0m \u001b[1m0s\u001b[0m 2ms/step - accuracy: 0.7355 - loss: 0.6478\n",
      "🎯 Testing Accuracy: 73.55%\n",
      "📉 Testing Loss: 0.6478\n"
     ]
    }
   ],
   "source": [
    "# TODO: Evaluate the model on test data\n",
    "loss, acc = ann_model.evaluate(X_test, y_test)  # Use test data\n",
    "\n",
    "print(f\"🎯 Testing Accuracy: {acc*100:.2f}%\")\n",
    "print(f\"📉 Testing Loss: {loss:.4f}\")"
   ]
  },
  {
   "cell_type": "markdown",
   "metadata": {},
   "source": [
    "**🔽 Dropdown Hint:**\n",
    "<details>\n",
    "<summary>Click for help with evaluation</summary>\n",
    "\n",
    "```python\n",
    "loss, acc = ann_model.evaluate(X_test, y_test)\n",
    "```\n",
    "</details>"
   ]
  },
  {
   "cell_type": "markdown",
   "metadata": {},
   "source": [
    "## 🎓 **Summary & Next Steps**\n",
    "\n",
    "**What you've learned:**\n",
    "- ✅ Text preprocessing and vectorization with TF-IDF\n",
    "- ✅ Label encoding for categorical targets\n",
    "- ✅ Building neural networks with TensorFlow/Keras\n",
    "- ✅ Training with validation splits and early stopping\n",
    "- ✅ Recognizing overfitting patterns\n",
    "\n",
    "**Key Takeaways:**\n",
    "1. **Data preprocessing** is crucial for NLP tasks\n",
    "2. **Overfitting** is common in neural networks - watch for it!\n",
    "3. **Early stopping** helps prevent overfitting\n",
    "4. **Validation curves** help diagnose model performance\n",
    "\n",
    "**🚀 Challenge Yourself:**\n",
    "- Try different architectures (more layers, different neuron counts)\n",
    "- Experiment with different dropout rates\n",
    "- Compare with other models (Random Forest, SVM)\n",
    "- Implement k-fold cross-validation"
   ]
  }
 ],
 "metadata": {
  "accelerator": "GPU",
  "colab": {
   "name": "Keras_Models_predictions.ipynb",
   "provenance": []
  },
  "kernelspec": {
   "display_name": "venv",
   "language": "python",
   "name": "python3"
  },
  "language_info": {
   "codemirror_mode": {
    "name": "ipython",
    "version": 3
   },
   "file_extension": ".py",
   "mimetype": "text/x-python",
   "name": "python",
   "nbconvert_exporter": "python",
   "pygments_lexer": "ipython3",
   "version": "3.13.7"
  }
 },
 "nbformat": 4,
 "nbformat_minor": 4
}
